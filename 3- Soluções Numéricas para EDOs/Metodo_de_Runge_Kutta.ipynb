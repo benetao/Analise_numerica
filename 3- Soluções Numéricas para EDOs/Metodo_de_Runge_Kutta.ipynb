{
 "cells": [
  {
   "cell_type": "markdown",
   "id": "a79095aa-21f8-45a3-9630-b20f57f6996d",
   "metadata": {
    "tags": []
   },
   "source": [
    "<img src=\"./logo.png\" style=\"width:1200px;height:250px\"/>\n",
    "\n",
    "## Ilum Escola de Ciência \n",
    "###  Curso: Análise Numérica\n",
    "### Professor: Vinicius Wasques\n",
    "### Aluno: Isabela Beneti\n",
    "### Método de Runge-Kutta"
   ]
  },
  {
   "cell_type": "markdown",
   "id": "21daccf5-c85d-450a-a49e-84fc31097f2c",
   "metadata": {},
   "source": [
    "## Importações"
   ]
  },
  {
   "cell_type": "code",
   "execution_count": 8,
   "id": "6388e252-84b5-4b30-84e0-491abe31511a",
   "metadata": {},
   "outputs": [],
   "source": [
    "import numpy as np\n",
    "import matplotlib.pyplot as plt"
   ]
  },
  {
   "cell_type": "markdown",
   "id": "346392ce-178e-48d6-950a-08a9c0d18a68",
   "metadata": {},
   "source": [
    "# Exercício 1\n",
    "\n",
    "1) Malthus: $x′=λx$\n",
    "\n",
    "2) Verhulst: $x′=λx(1−x)$\n",
    "\n",
    "3) Gompertz: $x′=λxln(1/x)$\n",
    "\n"
   ]
  },
  {
   "cell_type": "markdown",
   "id": "d6ea57e0-ab53-4aaa-92de-571dbe1638cc",
   "metadata": {},
   "source": [
    "##  a)  Para cada modelo esboce o gráfico das soluções analíticas, juntamente com as soluções numéricas. Nesse problema, considere condição inicial  $x(0)=0.5$, espaçamento $h=1$ e constante de crescimento $λ=0.1$."
   ]
  },
  {
   "cell_type": "markdown",
   "id": "3c879022-f8a4-4624-90f0-56ee241434d9",
   "metadata": {},
   "source": [
    "### 1- Malthus"
   ]
  },
  {
   "cell_type": "code",
   "execution_count": 9,
   "id": "3a76e150-7976-47b8-9cd5-b69d2be30522",
   "metadata": {},
   "outputs": [],
   "source": [
    "def runge_kutta_4(f, y0, t0, tf, dt):\n",
    "    \"\"\"\n",
    "    Resolve uma equação diferencial ordinária pelo método de Runge-Kutta de ordem 4.\n",
    "\n",
    "    Parâmetros:\n",
    "    f: função que descreve a equação diferencial (deve ter a assinatura f(t, y)).\n",
    "    y0: valor inicial da solução.\n",
    "    t0: tempo inicial.\n",
    "    tf: tempo final.\n",
    "    dt: tamanho do passo de tempo.\n",
    "\n",
    "    Retorno:\n",
    "    Um array com a solução da equação diferencial nos tempos especificados.\n",
    "    \"\"\"\n",
    "\n",
    "    # Inicializa o vetor de tempo e de solução\n",
    "    t = np.arange(t0, tf + dt, dt)\n",
    "    y = np.zeros(len(t))\n",
    "    y[0] = y0\n",
    "\n",
    "    # Implementa o método de Runge-Kutta de ordem 4\n",
    "    for i in range(len(t) - 1):\n",
    "        k1 = dt * f(t[i], y[i])\n",
    "        k2 = dt * f(t[i] + dt/2, y[i] + k1/2)\n",
    "        k3 = dt * f(t[i] + dt/2, y[i] + k2/2)\n",
    "        k4 = dt * f(t[i] + dt, y[i] + k3)\n",
    "        y[i+1] = y[i] + 1/6 * (k1 + 2*k2 + 2*k3 + k4)\n",
    "\n",
    "    return y"
   ]
  },
  {
   "cell_type": "code",
   "execution_count": 10,
   "id": "54a017ce-40e5-44b3-8ca3-9ff71049b33f",
   "metadata": {},
   "outputs": [],
   "source": [
    "def metodo_euler(f, y0, h, crit_parada):\n",
    "    \"\"\"\n",
    "    Implementa método de Euler para resolver a equação de Malthus.\n",
    "\n",
    "    Args:\n",
    "        f : função que define a equação diferencial.\n",
    "        x0 : valor inicial da população.\n",
    "        h : tamanho do passo de integração.\n",
    "        crit_parada : número de iterações do código.\n",
    "\n",
    "    Returns:\n",
    "        listas do eixo x e do eixo y para plotar o gráfico\n",
    "    \"\"\"\n",
    "    y_euler = [y0]  # Lista para armazenar as soluções do eixo y\n",
    "    x_euler = [0]  # Lista para armazenar valores do eixo x\n",
    "    y = y0  # Valor inicial\n",
    "\n",
    "    for i in range(crit_parada):\n",
    "        y += h * f(x_euler[-1], y)  # Atualiza y usando o método de Euler\n",
    "        t = (i + 1) * h  # Atualiza t\n",
    "        x_euler.append(t)\n",
    "        y_euler.append(y)\n",
    "\n",
    "    return x_euler, y_euler"
   ]
  },
  {
   "cell_type": "code",
   "execution_count": 11,
   "id": "a56fc4e1-db61-44e9-a131-2dc8c277f7d1",
   "metadata": {},
   "outputs": [],
   "source": [
    "# Função que define a equação diferencial de Malthus com taxa de crescimento populacional= 0.1\n",
    "def equacao_malthus(t,x):\n",
    "    return 0.1 * x"
   ]
  },
  {
   "cell_type": "code",
   "execution_count": 12,
   "id": "1d02bd00-98ee-40aa-88df-e87d64644aae",
   "metadata": {},
   "outputs": [
    {
     "data": {
      "image/png": "[encoded data removed]",
      "text/plain": [
       "<Figure size 432x288 with 1 Axes>"
      ]
     },
     "metadata": {
      "needs_background": "light"
     },
     "output_type": "display_data"
    }
   ],
   "source": [
    "# Parâmetros do problema\n",
    "x0 = 0.2  # Valor inicial da população\n",
    "h = 1  # Tamanho do passo\n",
    "crit_parada = 100  # Número de iterações\n",
    "lamb = 0.1  # Taxa de crescimento populacional\n",
    "t0=0 # tempo inicial\n",
    "tf= 100 # tempo final\n",
    "\n",
    "# Valores do gráfico do método de Euler\n",
    "x_malthus_euler, y_malthus_euler = metodo_euler(equacao_malthus, x0, h, crit_parada)\n",
    "\n",
    "# Valores do gráfico do método de Runge-Kutta\n",
    "y_malthus_rk= runge_kutta_4(equacao_malthus, x0, t0, tf, h)\n",
    "\n",
    "# Valores do gráfico real\n",
    "y_malthus_real = x0 * np.exp(lamb * np.array(x_malthus_euler))\n",
    "\n",
    "\n",
    "# Plotando o gráfico da solução obtida pelo método de Euler\n",
    "plt.plot(x_malthus_euler, y_malthus_euler, label='Método de Euler')\n",
    "# Plotando o gráfico da solução obtida pelo método de Runge-Kutta\n",
    "plt.plot(x_malthus_euler, y_malthus_rk, label='Runge-Kutta')\n",
    "# Plotando o gráfico da solução real\n",
    "plt.plot(x_malthus_euler, y_malthus_real, label='Solução Real', linestyle='dashdot')\n",
    "plt.xlabel('Tempo (t)')\n",
    "plt.ylabel('População (y)')\n",
    "plt.title('Equação Diferencial de Malthus')\n",
    "plt.legend()\n",
    "plt.show()"
   ]
  },
  {
   "cell_type": "markdown",
   "id": "e5f14492-c361-45ff-ae48-6fc28c02e376",
   "metadata": {},
   "source": [
    "### 2- Verhulst"
   ]
  },
  {
   "cell_type": "code",
   "execution_count": 29,
   "id": "5437b931-8028-4c05-8f27-9fc2102da92b",
   "metadata": {},
   "outputs": [],
   "source": [
    "def verhulst(t,x):\n",
    "    return 0.1 * x*(1-x)"
   ]
  },
  {
   "cell_type": "code",
   "execution_count": 30,
   "id": "38e55633-8ee9-463c-b7e4-341fdf64dc34",
   "metadata": {},
   "outputs": [
    {
     "data": {
      "image/png": "[encoded data removed]",
      "text/plain": [
       "<Figure size 432x288 with 1 Axes>"
      ]
     },
     "metadata": {
      "needs_background": "light"
     },
     "output_type": "display_data"
    }
   ],
   "source": [
    "# Valores do gráfico do método de Euler\n",
    "x_verhulst_euler, y_verhulst_euler = metodo_euler(verhulst, x0, h, 50)\n",
    "\n",
    "# Valores do gráfico do método de Runge-Kutta\n",
    "y_verhulst_rk= runge_kutta_4(verhulst, x0, 0, 50, h)\n",
    "\n",
    "# Valores do gráfico real\n",
    "\n",
    "y_verhulst_real=  1/(1 + ((1 - x0) / x0) * np.exp(-lamb * np.array(x_verhulst_euler)))\n",
    "\n",
    "# Plotando o gráfico da solução obtida pelo método de Euler\n",
    "plt.plot(x_verhulst_euler, y_verhulst_euler, label='Método de Euler')\n",
    "# Plotando o gráfico da solução obtida pelo método de Runge-Kutta\n",
    "plt.plot(x_verhulst_euler, y_verhulst_rk, label='Runge-Kutta')\n",
    "# Plotando o gráfico da solução real\n",
    "plt.plot(x_verhulst_euler, y_verhulst_real, label='Solução Real', linestyle='dashdot')\n",
    "plt.xlabel('Tempo (t)')\n",
    "plt.ylabel('População (y)')\n",
    "plt.title('Equação Diferencial de Verhulst')\n",
    "plt.legend()\n",
    "plt.show()"
   ]
  },
  {
   "cell_type": "markdown",
   "id": "b5182696-1f02-49b9-93d0-8fa8661b1abf",
   "metadata": {},
   "source": [
    "### 3- Gompertz"
   ]
  },
  {
   "cell_type": "code",
   "execution_count": 32,
   "id": "fcc5c458-906c-419c-a442-11db8432642d",
   "metadata": {},
   "outputs": [],
   "source": [
    "def gompertz(t,x):\n",
    "    return 0.1 * x* np.log(1/x)"
   ]
  },
  {
   "cell_type": "code",
   "execution_count": 33,
   "id": "6ff36ca3-2170-4874-9fbe-5f15fccac7be",
   "metadata": {},
   "outputs": [
    {
     "data": {
      "image/png": "[encoded data removed]",
      "text/plain": [
       "<Figure size 432x288 with 1 Axes>"
      ]
     },
     "metadata": {
      "needs_background": "light"
     },
     "output_type": "display_data"
    }
   ],
   "source": [
    "# Valores do gráfico do método de Euler\n",
    "x_gom_euler, y_gom_euler = metodo_euler(gompertz, x0, h, 50)\n",
    "\n",
    "# Valores do gráfico do método de Runge-Kutta\n",
    "y_gom_rk= runge_kutta_4(gompertz, x0, 0, 50, h)\n",
    "\n",
    "# Valores do gráfico real\n",
    "\n",
    "y_gom_real=  np.exp(-np.log(2)*np.exp(-lamb* np.array(x_gom_euler)))\n",
    "\n",
    "# Plotando o gráfico da solução obtida pelo método de Euler\n",
    "plt.plot(x_gom_euler, y_gom_euler, label='Método de Euler')\n",
    "# Plotando o gráfico da solução obtida pelo método de Runge-Kutta\n",
    "plt.plot(x_gom_euler, y_gom_rk, label='Runge-Kutta')\n",
    "# Plotando o gráfico da solução real\n",
    "plt.plot(x_gom_euler, y_gom_real, label='Solução Real', linestyle='dashdot')\n",
    "plt.xlabel('Tempo (t)')\n",
    "plt.ylabel('População (y)')\n",
    "plt.title('Equação Diferencial de Gompertz')\n",
    "plt.legend()\n",
    "plt.show()"
   ]
  },
  {
   "cell_type": "markdown",
   "id": "27ab4a37-c5d3-4631-bfa9-eb141069395f",
   "metadata": {},
   "source": [
    "## b) Compare os dois métodos numéricos em relação a solução analítica de cada problema. O que pode ser dito sobre a eficácia das aproximações?"
   ]
  },
  {
   "cell_type": "markdown",
   "id": "5d335297-73bc-43de-b5d8-a1ed1379e6e2",
   "metadata": {},
   "source": [
    "Comparando as soluções dadas por ambos os métodos com a solução analítica, percebe-se que o método de Runge-Kutta gerou resultados mais próximos que o de Euler. Isso fica claro sobretudo na solução da equação de Malthus, em que o Método de Euler gera uma solução muito menos próxima da analítica que o método de Runge-Kutta, como podemos ver no gráfico plotado no item a) e também pelo erro que pode ser calculado por:"
   ]
  },
  {
   "cell_type": "code",
   "execution_count": 35,
   "id": "1ee04c0a-4b44-456d-8635-f9c5d8cb9b73",
   "metadata": {},
   "outputs": [
    {
     "name": "stdout",
     "output_type": "stream",
     "text": [
      "Erro do método de Euler em relação à solução analítica da equação de Malthus: 9341.103346066197\n",
      "Erro do método de Runge Kutta em relação à solução analítica da equação de Malthus: 0.1896454040750111\n"
     ]
    }
   ],
   "source": [
    "erro_malthus_euler = np.linalg.norm(y_malthus_real - y_malthus_euler)\n",
    "print('Erro do método de Euler em relação à solução analítica da equação de Malthus:', erro_malthus_euler)\n",
    "erro_malthus_rk = np.linalg.norm(y_malthus_real - y_malthus_rk)\n",
    "print('Erro do método de Runge Kutta em relação à solução analítica da equação de Malthus:', erro_malthus_rk)"
   ]
  },
  {
   "cell_type": "markdown",
   "id": "551ab6d2-1d01-4331-9071-44c338f54378",
   "metadata": {},
   "source": [
    "Já na solução da equação diferencial de Verhulst, ambos os métodos resultaram em soluções próximas da real, mas, pelo gráfico e pelo erro, podemos concluir que o resultado pelo método de Runge-Kutta foi mais preciso:"
   ]
  },
  {
   "cell_type": "code",
   "execution_count": 36,
   "id": "8b6d6ae5-5826-46c3-aa5d-5485a09952ab",
   "metadata": {},
   "outputs": [
    {
     "name": "stdout",
     "output_type": "stream",
     "text": [
      "Erro do método de Euler em relação à solução analítica da equação de Verhulst: 0.022010708665428754\n",
      "Erro do método de Runge Kutta em relação à solução analítica da equação de Verhulst: 2.3532045467513483e-07\n"
     ]
    }
   ],
   "source": [
    "error_verhulst_euler = np.linalg.norm(y_verhulst_real - y_verhulst_euler)\n",
    "print('Erro do método de Euler em relação à solução analítica da equação de Verhulst:', error_verhulst_euler)\n",
    "error_verhulst_rk = np.linalg.norm(y_verhulst_real - y_verhulst_rk)\n",
    "print('Erro do método de Runge Kutta em relação à solução analítica da equação de Verhulst:', error_verhulst_rk)"
   ]
  },
  {
   "cell_type": "markdown",
   "id": "e852d103-484b-4d83-885a-e81cf5b4e0de",
   "metadata": {},
   "source": [
    "Por fim, a solução da equação de Gompertz foi melhor aproximada pelo método de Runge-Kutta, que, assim como na equação de Malthus e de Verhulst, praticamente sobrepôs a solução analítica no gráfico e apresenta um erro muito pequeno:"
   ]
  },
  {
   "cell_type": "code",
   "execution_count": 37,
   "id": "7f365479-1ad7-4d3b-ae67-c430d1417218",
   "metadata": {},
   "outputs": [
    {
     "name": "stdout",
     "output_type": "stream",
     "text": [
      "Erro do método de Euler em relação à solução analítica da equação de Gompertz: 0.029828744723038505\n",
      "Erro do método de Runge Kutta em relação à solução analítica da equação de Gompertz: 3.9144361883898795e-07\n"
     ]
    }
   ],
   "source": [
    "error_gom_euler = np.linalg.norm(y_gom_real - y_gom_euler)\n",
    "print('Erro do método de Euler em relação à solução analítica da equação de Gompertz:', error_gom_euler)\n",
    "error_gom_rk = np.linalg.norm(y_gom_real - y_gom_rk)\n",
    "print('Erro do método de Runge Kutta em relação à solução analítica da equação de Gompertz:', error_gom_rk)"
   ]
  },
  {
   "cell_type": "markdown",
   "id": "f6e96f3d-b77b-4e97-9aff-79533e787e72",
   "metadata": {},
   "source": [
    "### Observação: como funciona o método `linalg.norm`"
   ]
  },
  {
   "cell_type": "markdown",
   "id": "c66b36eb-0076-424c-8c43-f411c298ae17",
   "metadata": {},
   "source": [
    "O linalg.norm, da biblioteca numpy, calcula a norma da matriz inserida no argumento. No caso, colocamos como argumento uma matriz linha referente à diferença entre os valores de y dados pelo método de Euler ou de Range-Kutta e pelo solução analítica. Como não adicionamos nenhum argumento que especificasse qual tipo de norma queremos, o linalg.norm calcula a norma de Frobenius, que é basicamente a raiz quadrada da soma dos quadrados dos elementos da matriz. Dessa forma, quanto maior o resultado dessa norma, maior a diferença entre o resultado dado pelo método em relação à solução real e, portanto, maior o erro do método usado."
   ]
  },
  {
   "cell_type": "code",
   "execution_count": null,
   "id": "b609e359-62ab-4033-87a1-02899e6bb9bb",
   "metadata": {},
   "outputs": [],
   "source": []
  }
 ],
 "metadata": {
  "kernelspec": {
   "display_name": "ilumpy",
   "language": "python",
   "name": "ilumpy"
  },
  "language_info": {
   "codemirror_mode": {
    "name": "ipython",
    "version": 3
   },
   "file_extension": ".py",
   "mimetype": "text/x-python",
   "name": "python",
   "nbconvert_exporter": "python",
   "pygments_lexer": "ipython3",
   "version": "3.9.7"
  }
 },
 "nbformat": 4,
 "nbformat_minor": 5
}
