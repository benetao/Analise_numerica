{
 "cells": [
  {
   "cell_type": "markdown",
   "metadata": {},
   "source": [
    "Serie de Fourier\n",
    "========================================\n",
    "\n"
   ]
  },
  {
   "cell_type": "markdown",
   "metadata": {},
   "source": [
    "## Introdução\n",
    "\n"
   ]
  },
  {
   "cell_type": "markdown",
   "metadata": {},
   "source": [
    "No dia 25/04, na aula do pr. Martínez, aprendemos a fórmula da série de Fourier para uma função periódica. A série em sí se escreve da seguinte forma:<br>\n",
    "<br>\n",
    "$S(x) = \\frac{A_0}{2} + \\sum\\limits_{n = 1}^{\\infty}A_n\\cdot sen(nx) + B_n\\cdot cos(nx)$\n",
    "<br>\n",
    "<br>\n",
    "Para encontrar os coeficientes $A_n$ e $B_n$ da serie que aproxima uma função f(x), usamos a formula:<br>\n",
    "<br>\n",
    "$A_0 = \\frac{1}{\\pi}\\int_0^{2\\pi} f(x) dx$<br>\n",
    "<br>\n",
    "$A_n = \\frac{1}{\\pi}\\int_0^{2\\pi} f(x)\\cdot sen(nx)dx$<br>\n",
    "<br>\n",
    "$B_n = \\frac{1}{\\pi}\\int_0^{2\\pi} f(x)\\cdot cos(nx)dx$<br>\n",
    "<br>\n",
    "Alternativamente, podemos usar um algoritmo genético para encontrar quais $A_n$s e $B_n$s minimizam o erro da nossa aproximação. Como exemplo, vamos usar uma reprodução do desenho feito pelo professor Martínez no quadro."
   ]
  },
  {
   "cell_type": "markdown",
   "metadata": {},
   "source": [
    "## Objetivo\n",
    "\n",
    "Encontrar um polinômio de Fourier que aproxima a função correspondente ao desenho feito no quadro pelo professor Martínez, no dia 25/04."
   ]
  },
  {
   "cell_type": "markdown",
   "metadata": {},
   "source": [
    "## Importações\n",
    "\n"
   ]
  },
  {
   "cell_type": "code",
   "execution_count": 5,
   "metadata": {},
   "outputs": [],
   "source": [
    "\n",
    "import matplotlib.pyplot as plt\n",
    "import random as rd\n",
    "import numpy as np\n",
    "from scipy import integrate\n",
    "plt.style.use('seaborn-bright')"
   ]
  },
  {
   "cell_type": "markdown",
   "metadata": {},
   "source": [
    "## Códigos e discussão\n",
    "\n"
   ]
  },
  {
   "cell_type": "markdown",
   "metadata": {},
   "source": [
    "Primeiramente, vamos plotar o desenho:"
   ]
  },
  {
   "cell_type": "code",
   "execution_count": 6,
   "metadata": {},
   "outputs": [],
   "source": [
    "DESENHO_MARTINEZ = [\n",
    "    [0.05, 1.49], [0.25, 1.75], \n",
    "    [0.49, 1.98], [0.68, 2.27],\n",
    "    [0.84, 2.53], [1.02, 2.91], \n",
    "    [1.19, 3.23], [1.4, 3.65], \n",
    "    [1.58, 3.91], [1.72, 3.8], \n",
    "    [1.87, 3.43], [2.01, 3.18], \n",
    "    [2.17, 2.82], [2.35, 2.51], \n",
    "    [2.54, 2.18], [2.76, 1.77], \n",
    "    [2.93, 1.41], [3.1, 1.06], \n",
    "    [3.26, 1.1], [3.38, 1.35], \n",
    "    [3.46, 1.68], [3.59, 1.91], \n",
    "    [3.73, 2], [3.84, 1.79], \n",
    "    [3.9, 1.52], [4, 1.32], \n",
    "    [4.09, 1.09], [4.2, 1.53],\n",
    "    [4.25, 1.84], [4.31, 2.26],\n",
    "    [4.47, 2.34], [4.7, 2.49], \n",
    "    [4.86, 2.6], [5.04, 2.74],\n",
    "    [5.21, 2.87], [5.39, 2.99], \n",
    "    [5.48, 3.09], [5.55, 2.93],\n",
    "    [5.61, 2.76], [5.7, 2.61], \n",
    "    [5.81, 2.37], [5.89, 2.16],\n",
    "    [6, 2], [6.09, 1.77],\n",
    "    [6.19, 1.57]]"
   ]
  },
  {
   "cell_type": "code",
   "execution_count": 7,
   "metadata": {},
   "outputs": [
    {
     "data": {
      "text/plain": [
       "Text(0.5, 1.0, 'Desenho Pr. Martínez')"
      ]
     },
     "execution_count": 7,
     "metadata": {},
     "output_type": "execute_result"
    },
    {
     "data": {
      "image/png": "[encoded data removed]",
      "text/plain": [
       "<Figure size 432x288 with 1 Axes>"
      ]
     },
     "metadata": {
      "needs_background": "light"
     },
     "output_type": "display_data"
    }
   ],
   "source": [
    "x = []\n",
    "y = []\n",
    "for i in DESENHO_MARTINEZ:\n",
    "    x.append(i[0])\n",
    "    y.append(i[1])\n",
    "x = np.array(x)\n",
    "y = np.array(y)\n",
    "fig, ax = plt.subplots(1,1)\n",
    "ax.plot(x,y)\n",
    "ax.set_ylim(0,5)\n",
    "ax.set_title(\"Desenho Pr. Martínez\")"
   ]
  },
  {
   "cell_type": "markdown",
   "metadata": {},
   "source": [
    "Em seguida, usamos a fórmula para encontrar o polinômio de Fourier e comparar com o desenho:"
   ]
  },
  {
   "cell_type": "code",
   "execution_count": 14,
   "metadata": {},
   "outputs": [
    {
     "name": "stdout",
     "output_type": "stream",
     "text": [
      "A0 = 4.600680216010023\n",
      "B0 = 0.0\n",
      "A1 = 0.20507409728169762\n",
      "B1 = 0.3909525321186145\n",
      "A2 = -0.8637663231988554\n",
      "B2 = -0.2823152298704438\n",
      "A3 = -0.1909785990276665\n",
      "B3 = -0.2389600353268797\n",
      "A4 = -0.112493635820859\n",
      "B4 = 0.08060647938813228\n",
      "A5 = -0.059426099955172444\n",
      "B5 = 0.009491346495906994\n",
      "A6 = -0.2276695408673958\n",
      "B6 = 0.08607844976180694\n",
      "A7 = 0.04436430535533027\n",
      "B7 = 0.033083805454010504\n",
      "A8 = -0.07590587840205701\n",
      "B8 = -0.01601753234367216\n",
      "A9 = 0.000365519873881592\n",
      "B9 = 0.11774539480060234\n"
     ]
    }
   ],
   "source": [
    "ORDEM = 10\n",
    "As = []\n",
    "Bs = []\n",
    "for i in range(ORDEM):\n",
    "    y1 = y*np.cos(i*x)/np.pi\n",
    "    A = integrate.simpson(y1, x)\n",
    "    print(f'A{i} = {A}')\n",
    "    y2 = y*np.sin(i*x)/np.pi\n",
    "    B = integrate.simpson(y2,x)\n",
    "    print(f'B{i} = {B}')\n",
    "    As.append(A)\n",
    "    Bs.append(B)\n",
    "y_serie = np.zeros(len(x)) + As[0]/2\n",
    "for i in range(1, len(As)):\n",
    "    y_serie = y_serie + As[i]*np.cos(i*x) + Bs[i]*np.sin(i*x)"
   ]
  },
  {
   "cell_type": "code",
   "execution_count": 15,
   "metadata": {},
   "outputs": [
    {
     "data": {
      "text/plain": [
       "<matplotlib.legend.Legend at 0x1bf48890490>"
      ]
     },
     "execution_count": 15,
     "metadata": {},
     "output_type": "execute_result"
    },
    {
     "data": {
      "image/png": "[encoded data removed]",
      "text/plain": [
       "<Figure size 432x288 with 1 Axes>"
      ]
     },
     "metadata": {
      "needs_background": "light"
     },
     "output_type": "display_data"
    }
   ],
   "source": [
    "fig, ax = plt.subplots(1,1)\n",
    "ax.plot(x,y, label = 'Desenho Pr. Martínez')\n",
    "ax.plot(x, y_serie, label = f\"Polinômio de Fourier de ordem {ORDEM}\")\n",
    "ax.set_ylim(0,5)\n",
    "ax.legend()"
   ]
  },
  {
   "cell_type": "markdown",
   "metadata": {},
   "source": [
    "Agora vamos fazer o mesmo, porém, ao invés de utilizar a fórmula, vamos utilizar um algoritmo genético:"
   ]
  },
  {
   "cell_type": "code",
   "execution_count": 16,
   "metadata": {},
   "outputs": [],
   "source": [
    "def create_frame(t, xx, yy):    \n",
    "    \"\"\" Função cria cada frame do gif\n",
    "    Args:\n",
    "    t= numero do frame\n",
    "    xx= lista de coordenadas x do ponto\n",
    "    yy= lista de coordenadas y do ponto\n",
    "\n",
    "    Retorna:\n",
    "    Gráfico que servirá como frame para o gif\"\"\"\n",
    "    fig, ax = plt.subplots(1,1)\n",
    "    ax.plot(x,y, label = 'Desenho Pr. Martínez')\n",
    "    ax.plot(x, y_serie, label = f\"Polinômio de Fourier de ordem {ORDEM}\")\n",
    "    ax.set_ylim(0,5)\n",
    "    ax.legend()\n",
    "    plt.savefig(f'./Figuras/img_{t}.png', \n",
    "                transparent = False,  \n",
    "                facecolor = 'white'\n",
    "                )\n",
    "    plt.close()"
   ]
  },
  {
   "cell_type": "code",
   "execution_count": null,
   "metadata": {},
   "outputs": [],
   "source": []
  },
  {
   "cell_type": "code",
   "execution_count": null,
   "metadata": {},
   "outputs": [],
   "source": []
  },
  {
   "cell_type": "code",
   "execution_count": 5,
   "metadata": {},
   "outputs": [],
   "source": [
    "# CONSTANTES\n",
    "\n",
    "# relacionadas à busca\n",
    "TAMANHO_POP = 50\n",
    "CHANCE_CRUZAMENTO = 0.5\n",
    "CHANCE_MUTACAO = 0.05\n",
    "NUM_COMBATENTES_NO_TORNEIO = 3\n",
    "NUM_GERACOES = 10000\n",
    "\n",
    "#relacionados ao problema\n",
    "ORDEM = 7\n",
    "DESENHO = DESENHO_MARTINEZ"
   ]
  },
  {
   "cell_type": "code",
   "execution_count": 6,
   "metadata": {},
   "outputs": [],
   "source": [
    "# funções locais (para não ter que colocar as variaveis locais no script\n",
    "def cria_populacao_inicial(tamanho, ordem):\n",
    "    return populacao_inicial_serie(tamanho, ORDEM)\n",
    "\n",
    "def funcao_objetivo_pop(populacao):\n",
    "    return funcao_objetivo_pop_serie(populacao, DESENHO)\n",
    "\n",
    "def funcao_selecao(populacao, fitness):\n",
    "    return selecao_torneio_min(populacao, fitness, NUM_COMBATENTES_NO_TORNEIO)"
   ]
  },
  {
   "cell_type": "code",
   "execution_count": 7,
   "metadata": {},
   "outputs": [
    {
     "name": "stdout",
     "output_type": "stream",
     "text": [
      "Melhor indivíduo já visto:\n",
      "\n",
      "A0 = 4.6817267139572145\n",
      "B0 = 0\n",
      "A1 = 0.2700798817978791\n",
      "B1 = 0.39484397703318486\n",
      "A2 = -0.8007043945245131\n",
      "B2 = -0.29066692745123746\n",
      "A3 = -0.14301136138301995\n",
      "B3 = -0.23458755060211534\n",
      "A4 = -0.03404377315290308\n",
      "B4 = 0.0763945000751054\n",
      "A5 = -0.0003937797438204882\n",
      "B5 = -0.025081981663025665\n",
      "A6 = -0.17871652223786683\n",
      "B6 = 0.09192245702417168\n"
     ]
    }
   ],
   "source": [
    "# Busca por algoritmo genético\n",
    "\n",
    "populacao = cria_populacao_inicial(TAMANHO_POP, ORDEM)\n",
    "\n",
    "melhor_fitness_ja_visto = float(\"inf\")  # é assim que escrevemos infinito em python\n",
    "\n",
    "lista_melhor_fitness = []\n",
    "\n",
    "for n in range(NUM_GERACOES):\n",
    "    \n",
    "    # Seleção\n",
    "    fitness = funcao_objetivo_pop(populacao)\n",
    "    populacao = funcao_selecao(populacao, fitness)\n",
    "    \n",
    "    # Cruzamento\n",
    "    pais = populacao[0::2]\n",
    "    maes = populacao[1::2]\n",
    "    \n",
    "    contador = 0\n",
    "    \n",
    "    for pai, mae in zip(pais, maes):\n",
    "        if rd.random() <= CHANCE_CRUZAMENTO:\n",
    "            filho1, filho2 = funcao_cruzamento(pai, mae)\n",
    "            populacao[contador] = filho1\n",
    "            populacao[contador + 1] = filho2\n",
    "        \n",
    "        contador = contador + 2   \n",
    "        \n",
    "    # Mutação\n",
    "    for n in range(len(populacao)):\n",
    "        if rd.random() <= CHANCE_MUTACAO:\n",
    "            individuo = populacao[n]\n",
    "            populacao[n] = funcao_mutacao(individuo)            \n",
    "            \n",
    "    # melhor individuo já visto até agora\n",
    "    fitness = funcao_objetivo_pop(populacao)\n",
    "    menor_fitness = min(fitness)\n",
    "    if menor_fitness < melhor_fitness_ja_visto:        \n",
    "        posicao = fitness.index(menor_fitness)\n",
    "        melhor_individuo_ja_visto = populacao[posicao]\n",
    "        melhor_fitness_ja_visto = menor_fitness    \n",
    "    lista_melhor_fitness.append(melhor_fitness_ja_visto)\n",
    "print('Melhor indivíduo já visto:')\n",
    "print()\n",
    "for i in range(len(melhor_individuo_ja_visto[0])):\n",
    "    print(f\"A{i} = {melhor_individuo_ja_visto[0][i]}\")\n",
    "    print(f\"B{i} = {melhor_individuo_ja_visto[1][i]}\")"
   ]
  },
  {
   "cell_type": "code",
   "execution_count": 8,
   "metadata": {},
   "outputs": [
    {
     "data": {
      "text/plain": [
       "<matplotlib.legend.Legend at 0x1fb1e157130>"
      ]
     },
     "execution_count": 8,
     "metadata": {},
     "output_type": "execute_result"
    },
    {
     "data": {
      "image/png": "[encoded data removed]",
      "text/plain": [
       "<Figure size 432x288 with 1 Axes>"
      ]
     },
     "metadata": {
      "needs_background": "light"
     },
     "output_type": "display_data"
    }
   ],
   "source": [
    "y_serie_ag = []\n",
    "for i in x:\n",
    "    y_serie_ag.append(serie_fourier(i, melhor_individuo_ja_visto))\n",
    "fig, ax = plt.subplots(1,1)\n",
    "ax.plot(x,y, label = \"Desenho pr. Martínez\")\n",
    "ax.plot(x, y_serie_ag, c = 'r', label = \"Resultado Algoritmo Genético\")\n",
    "ax.legend()"
   ]
  },
  {
   "cell_type": "markdown",
   "metadata": {},
   "source": [
    "## Conclusão\n",
    "\n"
   ]
  },
  {
   "cell_type": "markdown",
   "metadata": {},
   "source": [
    "Concluo que o algoritmo génético funcionou e conseguiu aproximar muito bem o desenho. No entanto, ao rodar o código várias vezes, percebi que nem sempre ele dá certo. As vezes ele falha completamente e chega em uma função que não se parece nem um pouco com o desenho, e as vezes ele chega muito próximo. Além disso, percebi que, começando com um polinômio de ordem baixa e aumentando a ordem, observa-se o resultado esperado, que é a aproximação melhorando. No entanto, acima de um certo ponto ($\\pm$ ordem 7) a aproximação começa a piorar muito. Provavelmente isso se dá pois o espaço de busca começa a ficar muito grande, e consequentemente fica mais difícil para o algoritmo encontrar mínimos em um espaço tão grande."
   ]
  }
 ],
 "metadata": {
  "kernelspec": {
   "display_name": "ilumpy",
   "language": "python",
   "name": "ilumpy"
  },
  "language_info": {
   "codemirror_mode": {
    "name": "ipython",
    "version": 3
   },
   "file_extension": ".py",
   "mimetype": "text/x-python",
   "name": "python",
   "nbconvert_exporter": "python",
   "pygments_lexer": "ipython3",
   "version": "3.9.7"
  },
  "org": null
 },
 "nbformat": 4,
 "nbformat_minor": 4
}
