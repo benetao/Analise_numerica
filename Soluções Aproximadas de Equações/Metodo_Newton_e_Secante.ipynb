{
 "cells": [
  {
   "cell_type": "code",
   "execution_count": 13,
   "id": "1a9ee6d4-eed4-4ba2-81b8-43128019490e",
   "metadata": {},
   "outputs": [],
   "source": [
    "def bisseccao(f, a, b, eps):\n",
    "    \"\"\"\n",
    "    Encontra uma raiz de f(x) no intervalo [a, b] com precisão eps.\n",
    "    \"\"\"\n",
    "    fa = f(a)\n",
    "    fb = f(b)\n",
    "    i= 0\n",
    "\n",
    "    if fa * fb > 0:\n",
    "        raise ValueError(\"Não há raiz no intervalo dado.\")\n",
    "\n",
    "    while abs(b - a) > eps:\n",
    "        i= i+1\n",
    "        c = (a + b) / 2\n",
    "        fc = f(c)\n",
    "\n",
    "        if fa * fc < 0:\n",
    "            b = c\n",
    "            fb = fc\n",
    "        else:\n",
    "            a = c\n",
    "            fa = fc\n",
    "\n",
    "    return c, i\n",
    "\n",
    "def newton(f, df, p0, eps=1e-6):\n",
    "    # Definimos uma variável para armazenar o valor atual de x\n",
    "    p = p0\n",
    "    i=0\n",
    "    fp = f(p)\n",
    "    # Fazemos um loop para iterar o método de Newton\n",
    "    while abs(fp) > eps:\n",
    "        # Calculamos o valor de f(x) e df(x)S\n",
    "        i = i+1\n",
    "        fp = f(p)\n",
    "        dfp = df(p)\n",
    "\n",
    "        # Calculamos a próxima aproximação de x usando o método de Newton\n",
    "        \n",
    "        p = p - fp / dfp\n",
    "        \n",
    "        \"\"\" Série de Taylor: pn= pn-1 - (f(pn-1)/ f'(pn-1)\"\"\"\n",
    "\n",
    "        # Verificamos se o valor atual de x é uma aproximação suficientemente boa para uma raiz\n",
    "    return p, i"
   ]
  },
  {
   "cell_type": "code",
   "execution_count": 14,
   "id": "267f3694-b8cf-4bb8-8a41-4c771ca8215a",
   "metadata": {},
   "outputs": [],
   "source": [
    "def f(x): # definindo a função f(x), dada pelo enunciado\n",
    "    return x**3 + x -3\n",
    "def df(y): # derivada da função f(x)\n",
    "    return 3*y**2 + 1"
   ]
  },
  {
   "cell_type": "code",
   "execution_count": 18,
   "id": "6c622900-3f88-4e49-b973-b6ca37263520",
   "metadata": {},
   "outputs": [
    {
     "name": "stdout",
     "output_type": "stream",
     "text": [
      "Usando o método de bissecção, a raíz obtida e a quantidade de vezes que o código iterou para chegar até ela foi, respectivamente: (1.2134122848510742, 22)\n"
     ]
    }
   ],
   "source": [
    "r = bisseccao(f, -2, 2, 1e-6)\n",
    "print(\"Usando o método de bissecção, a raíz obtida e a quantidade de vezes que o código iterou para chegar até ela foi, respectivamente:\", r)"
   ]
  },
  {
   "cell_type": "code",
   "execution_count": 19,
   "id": "bcb75834-c717-4f45-af36-09ed5d64aea4",
   "metadata": {},
   "outputs": [
    {
     "name": "stdout",
     "output_type": "stream",
     "text": [
      "Usando o método de Newton, a raíz obtida e a quantidade de vezes que o código iterou para chegar até ela foi, respectivamente: (1.2134116627622298, 11)\n"
     ]
    }
   ],
   "source": [
    "a = newton(f, df, p0=20)\n",
    "\n",
    "print(\"Usando o método de Newton, a raíz obtida e a quantidade de vezes que o código iterou para chegar até ela foi, respectivamente:\", a)\n"
   ]
  },
  {
   "cell_type": "code",
   "execution_count": null,
   "id": "6624c62d-082e-40af-aab8-7012f0ca3963",
   "metadata": {},
   "outputs": [],
   "source": []
  }
 ],
 "metadata": {
  "kernelspec": {
   "display_name": "ilumpy",
   "language": "python",
   "name": "ilumpy"
  },
  "language_info": {
   "codemirror_mode": {
    "name": "ipython",
    "version": 3
   },
   "file_extension": ".py",
   "mimetype": "text/x-python",
   "name": "python",
   "nbconvert_exporter": "python",
   "pygments_lexer": "ipython3",
   "version": "3.9.7"
  }
 },
 "nbformat": 4,
 "nbformat_minor": 5
}
