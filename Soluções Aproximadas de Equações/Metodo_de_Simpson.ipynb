{
 "cells": [
  {
   "cell_type": "markdown",
   "id": "a79095aa-21f8-45a3-9630-b20f57f6996d",
   "metadata": {
    "tags": []
   },
   "source": [
    "<img src=\"./logo.png\" style=\"width:1200px;height:250px\"/>\n",
    "\n",
    "\n",
    "## Ilum Escola de Ciência \n",
    "###  Curso: Análise Numérica\n",
    "### Professor: Vinicius Wasques\n",
    "### Aluno: Isabela Beneti\n",
    "### Método de Simpson"
   ]
  },
  {
   "cell_type": "markdown",
   "id": "21daccf5-c85d-450a-a49e-84fc31097f2c",
   "metadata": {},
   "source": [
    "## Importações"
   ]
  },
  {
   "cell_type": "code",
   "execution_count": 1,
   "id": "6388e252-84b5-4b30-84e0-491abe31511a",
   "metadata": {},
   "outputs": [],
   "source": [
    "import numpy as np\n",
    "import matplotlib.pyplot as plt\n",
    "from scipy import integrate"
   ]
  },
  {
   "cell_type": "markdown",
   "id": "d6ea57e0-ab53-4aaa-92de-571dbe1638cc",
   "metadata": {
    "jp-MarkdownHeadingCollapsed": true,
    "tags": []
   },
   "source": [
    "##  a) Determine o valor exato da área determinada pela função $f(x)$ no intervalo [0,2]."
   ]
  },
  {
   "cell_type": "markdown",
   "id": "df1ea319-fd7e-4996-86f1-ac5fe420b4d2",
   "metadata": {},
   "source": [
    "Para calcular *exatamente* o valor da área determinada pela função $f(x)$ no intervalo determinado, basta calcular a integral dessa função.\n",
    "Como sabemos, o valor da integral infinita da função $e^x$ é o próprio $e^x$, adicionado a uma constante de integração $C$. Ou seja, $\\int e^x dx = e^x + C $."
   ]
  },
  {
   "cell_type": "markdown",
   "id": "385e86ce-6525-4a80-8a2d-071a4d6503ef",
   "metadata": {},
   "source": [
    "Agora, para calcular o valor dessa mesma integral no intervalo [0,2] basta subtrair o valor da integral no ponto 2 pelo valor da integral no ponto 0. Logo\n",
    "\n",
    "$$ \\int_{0}^{2} e^x \\, dx = e^2 + C - (e^0 + C) = e^2 -1$$"
   ]
  },
  {
   "cell_type": "markdown",
   "id": "00fa454f-d610-4411-a10c-8fd4173f3c26",
   "metadata": {},
   "source": [
    "Portanto, o valor exato da área determinada pela função $f(x)$ no intervalo [0,2] é de $e^2 - 1$"
   ]
  },
  {
   "cell_type": "markdown",
   "id": "27ab4a37-c5d3-4631-bfa9-eb141069395f",
   "metadata": {},
   "source": [
    "## b) Utilize o método do Trapézio para estimar o valor desta área."
   ]
  },
  {
   "cell_type": "markdown",
   "id": "3454ba6b-f732-4a96-9ef5-62de92b4ab2c",
   "metadata": {},
   "source": [
    "Primeiro, vamos implementar a função da qual calcularemos a área"
   ]
  },
  {
   "cell_type": "code",
   "execution_count": 2,
   "id": "a9e92758-30e3-4721-8c3b-c47d1ec59c09",
   "metadata": {},
   "outputs": [],
   "source": [
    "def f(x):\n",
    "    return np.exp(x)"
   ]
  },
  {
   "cell_type": "markdown",
   "id": "a70bc58f-9eae-4f70-9642-66f074017677",
   "metadata": {},
   "source": [
    "Agora, vamos definir uma função que calcula a integral pelo método do trapézio simples (calcula a área do trapézio cujas bases medem $f(a)$ e $f(b)$, e cuja altura mede $b-a$ , sendo a e b os limites da integral)"
   ]
  },
  {
   "cell_type": "code",
   "execution_count": 3,
   "id": "eb4425a4-060a-434f-9a01-8200e3f41447",
   "metadata": {},
   "outputs": [],
   "source": [
    "####### Definindo função que realiza o método do trapézio #######\n",
    "def metodo_do_trapezio(f, a, b):\n",
    "    \"\"\"\n",
    "    Argumentos: \n",
    "    f= função da qual a aproximação da integral será calculada\n",
    "    a= limite inferior da integral\n",
    "    b= limite superior da integral\n",
    "    \n",
    "    Retorna:\n",
    "    \n",
    "    Aproximação da integral pelo método do trapézio\n",
    "    \"\"\"\n",
    "    h = abs(b - a)\n",
    "    integral = (f(a) + f(b)) / 2 * h\n",
    "\n",
    "    return integral"
   ]
  },
  {
   "cell_type": "markdown",
   "id": "3d738c64-fbfb-4f40-abe2-65f4ce2c1c67",
   "metadata": {},
   "source": [
    "Testando essa função para a função do problema, temos o resultado:"
   ]
  },
  {
   "cell_type": "code",
   "execution_count": 4,
   "id": "06d64c5f-2551-4338-911c-25a256fa66ca",
   "metadata": {},
   "outputs": [
    {
     "name": "stdout",
     "output_type": "stream",
     "text": [
      "Estimativa da integral pelo método do trapézio: 8.38905609893065\n"
     ]
    }
   ],
   "source": [
    "# definindo valores dos limites inferior e superior\n",
    "a = 0  # limite inferior\n",
    "b = 2  # limite superior\n",
    "\n",
    "integral_trapezio = metodo_do_trapezio(f, a, b)\n",
    "print(\"Estimativa da integral pelo método do trapézio:\", integral_trapezio)"
   ]
  },
  {
   "cell_type": "markdown",
   "id": "03850327-c289-4baa-b40d-734821340513",
   "metadata": {},
   "source": [
    "### Representação geométrica"
   ]
  },
  {
   "cell_type": "markdown",
   "id": "1fdae385-25f6-4b89-937a-6de418dce288",
   "metadata": {},
   "source": [
    "Para esboçar geometricamente o que está sendo feito, podemos plotar o gráfico da função $f(x)$ e o trapézio ussado como aproximação da integral:"
   ]
  },
  {
   "cell_type": "code",
   "execution_count": 5,
   "id": "393717fe-0717-4d7a-a1c8-bc861713e513",
   "metadata": {},
   "outputs": [
    {
     "data": {
      "image/png": "[encoded data removed]",
      "text/plain": [
       "<Figure size 432x288 with 1 Axes>"
      ]
     },
     "metadata": {
      "needs_background": "light"
     },
     "output_type": "display_data"
    }
   ],
   "source": [
    "####### Plotando gráfico do método do trapézio #######\n",
    "\n",
    "x = np.linspace(a, b, 1000)  # Pontos para plotar a função\n",
    "y = f(x)  # Valores da função nos pontos x\n",
    "\n",
    "# Plotar o gráfico da função\n",
    "plt.plot(x, y, label='Função')\n",
    "plt.fill_between(x, 0, y, alpha=0.3)\n",
    "\n",
    "# Plotar o trapézio aproximado como integral\n",
    "plt.plot([a, b], [0, 0], 'red', label='Trapézio')\n",
    "plt.plot([a, a], [0, f(a)], 'red')\n",
    "plt.plot([b, b], [0, f(b)],'red')\n",
    "plt.plot([a, b], [f(a), f(b)],'red')\n",
    "\n",
    "plt.title('Gráfico da função com Trapézio Aproximado')\n",
    "plt.xlabel('x')\n",
    "plt.ylabel('f(x)')\n",
    "plt.legend()\n",
    "plt.grid(True)\n",
    "plt.show()"
   ]
  },
  {
   "cell_type": "markdown",
   "id": "6d818109-2570-495b-8780-b0f8e5d80276",
   "metadata": {},
   "source": [
    "## c) Utilize o método de Simpson para estimar o valor desta área."
   ]
  },
  {
   "cell_type": "markdown",
   "id": "9296d960-6a6a-4303-bbb8-b63346e8b52a",
   "metadata": {},
   "source": [
    "Para tanto, é necessário definir uma nova função que implemente o método de Simpson, definido pela fórmula que o professor Vinpicius demonstrou (em parte) em aula: $\\frac{h}{3}[f(x_0) + 4f(x_1) + f(x_2)]$"
   ]
  },
  {
   "cell_type": "code",
   "execution_count": 6,
   "id": "883f200c-ac6d-4815-82cf-9653ef53418a",
   "metadata": {},
   "outputs": [],
   "source": [
    "def metodo_de_simpson_simples(f, a, b):\n",
    "    h = (b - a) / 2\n",
    "    x = np.array([a, (a + b) / 2, b])\n",
    "    y = f(x)\n",
    "\n",
    "    integral = h/3 * np.sum(y[0] + 4*y[1] + y[2])\n",
    "\n",
    "    return integral"
   ]
  },
  {
   "cell_type": "code",
   "execution_count": 7,
   "id": "702d68d4-efa1-4ec3-8ba9-156e90b24c99",
   "metadata": {},
   "outputs": [
    {
     "name": "stdout",
     "output_type": "stream",
     "text": [
      "Estimativa da integral pelo método do Simpson: 6.42072780425561\n"
     ]
    }
   ],
   "source": [
    "a = 0  # Limite inferior\n",
    "b = 2  # Limite superior\n",
    "\n",
    "integral_simpson_simples = metodo_de_simpson_simples(f, a, b)\n",
    "print(\"Estimativa da integral pelo método do Simpson:\",integral_simpson_simples)"
   ]
  },
  {
   "cell_type": "markdown",
   "id": "8e36bae7-5060-42cc-b91c-9a0bd6591000",
   "metadata": {},
   "source": [
    "## d) Compare os métodos numéricos com o real valor da área."
   ]
  },
  {
   "cell_type": "markdown",
   "id": "0e1007a9-d8af-4c0c-8fb4-231b751f7a3c",
   "metadata": {},
   "source": [
    "Para comparar os métodos do trapéxio e de Simpson, podemos calcular o erro (módulo da diferença em relação ao valor real) de ambos os métodos"
   ]
  },
  {
   "cell_type": "code",
   "execution_count": 8,
   "id": "5d23a571-75e8-4a29-81d1-2d658e753735",
   "metadata": {},
   "outputs": [
    {
     "name": "stdout",
     "output_type": "stream",
     "text": [
      "Solução analítica: 6.38905609893065\n"
     ]
    }
   ],
   "source": [
    "# calculando integral analítica\n",
    "integral_analitica= f(2)-1 # calculando a integral de acordo com o resultado obtido no item a (e^2 - 1)\n",
    "print(\"Solução analítica:\", integral_analitica)"
   ]
  },
  {
   "cell_type": "code",
   "execution_count": 9,
   "id": "335fd5c6-03aa-4481-a27e-2426d51e3e2a",
   "metadata": {},
   "outputs": [
    {
     "name": "stdout",
     "output_type": "stream",
     "text": [
      "O erro do método do trapézio foi de 2.0\n"
     ]
    }
   ],
   "source": [
    "# calculando o erro do método do trapézio em relação à solução analítica\n",
    "erro_metodo_trapezio = abs(integral_analitica - integral_trapezio)\n",
    "print(\"O erro do método do trapézio foi de\", erro_metodo_trapezio)"
   ]
  },
  {
   "cell_type": "code",
   "execution_count": 10,
   "id": "bb39abe0-0994-413a-8ded-9a6abfde2937",
   "metadata": {},
   "outputs": [
    {
     "name": "stdout",
     "output_type": "stream",
     "text": [
      "O erro do método de Simpson foi de 0.031671705324959554\n"
     ]
    }
   ],
   "source": [
    "# calculando o erro do método de Simpson simples em relação à solução analítica\n",
    "erro_metodo_simpson_simples = abs(integral_analitica - integral_simpson_simples)\n",
    "print(\"O erro do método de Simpson foi de\", erro_metodo_simpson_simples)"
   ]
  },
  {
   "cell_type": "markdown",
   "id": "a40e2bca-45a7-44e5-9311-2919a8e07c9a",
   "metadata": {},
   "source": [
    "Como podemos ver, o método de Simpson tem um erro mais de $10$ vezes menor que o erro do método do trapézio."
   ]
  },
  {
   "cell_type": "markdown",
   "id": "84e9cb11-3ef6-4280-9480-939d5867e281",
   "metadata": {
    "jp-MarkdownHeadingCollapsed": true,
    "tags": []
   },
   "source": [
    "# Exercício 2"
   ]
  },
  {
   "attachments": {
    "0fa47a89-0227-476c-b8a0-2c50eb8e750c.png": {
     "image/png": "[encoded data removed]"
    }
   },
   "cell_type": "markdown",
   "id": "5c77c203-080d-407c-97ac-a8c710a934d8",
   "metadata": {},
   "source": [
    "![image.png](attachment:0fa47a89-0227-476c-b8a0-2c50eb8e750c.png)"
   ]
  },
  {
   "cell_type": "markdown",
   "id": "ccd8b646-a28c-4597-8e7b-ad2bc6f2b2d8",
   "metadata": {},
   "source": [
    "Pelo erro calculado, considero que o método mais eficiente foi o de Simpson. Para realizar o método de Simpson composto, podemos definir a função abaixo, que é muito semelhante à função do método de Simpson simples, mas implementa partições (que, nesse caso, precisam ser um número par)."
   ]
  },
  {
   "cell_type": "code",
   "execution_count": 11,
   "id": "1250a88a-a7c8-47f1-85e1-36a742f91030",
   "metadata": {},
   "outputs": [],
   "source": [
    "def metodo_de_simpson_composto(g, a, b, n):\n",
    "    if n % 2 != 0:\n",
    "        n += 1  # Garante um número par de partições\n",
    "\n",
    "    h = (b - a) / n\n",
    "    x = np.linspace(a, b, n+1)\n",
    "    y = g(x)\n",
    "\n",
    "    integral = h/3 * np.sum(y[0:-1:2] + 4*y[1:-1:2] + y[2::2])\n",
    "\n",
    "    return integral"
   ]
  },
  {
   "cell_type": "code",
   "execution_count": 12,
   "id": "89af8faf-899b-4e0e-b40f-43cdd760d6c4",
   "metadata": {},
   "outputs": [],
   "source": [
    "def g(x):\n",
    "    return np.exp(-x**2)"
   ]
  },
  {
   "cell_type": "code",
   "execution_count": 13,
   "id": "52ba9bb1-c224-4447-83c0-f02b74409a28",
   "metadata": {},
   "outputs": [
    {
     "name": "stdout",
     "output_type": "stream",
     "text": [
      "Estimativa da integral pelo método do Simpson composto: 1.493674109820692\n"
     ]
    }
   ],
   "source": [
    "a= -1\n",
    "b= 1\n",
    "integral_simpson_composta = metodo_de_simpson_composto(g, a, b, 10)\n",
    "print(\"Estimativa da integral pelo método do Simpson composto:\", integral_simpson_composta)"
   ]
  }
 ],
 "metadata": {
  "kernelspec": {
   "display_name": "ilumpy",
   "language": "python",
   "name": "ilumpy"
  },
  "language_info": {
   "codemirror_mode": {
    "name": "ipython",
    "version": 3
   },
   "file_extension": ".py",
   "mimetype": "text/x-python",
   "name": "python",
   "nbconvert_exporter": "python",
   "pygments_lexer": "ipython3",
   "version": "3.9.7"
  }
 },
 "nbformat": 4,
 "nbformat_minor": 5
}
