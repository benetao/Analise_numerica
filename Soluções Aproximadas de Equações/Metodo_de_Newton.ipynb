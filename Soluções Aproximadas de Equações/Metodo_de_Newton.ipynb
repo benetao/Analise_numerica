{
 "cells": [
  {
   "cell_type": "markdown",
   "id": "a79095aa-21f8-45a3-9630-b20f57f6996d",
   "metadata": {},
   "source": [
    "<img src=\"logo1.png\" style=\"width:450px;height:150px\"/>\n",
    "\n",
    "## Ilum Escola de Ciência \n",
    "###  Curso: Análise Numérica}\n",
    "### Professor: Vinícius Wasques\n",
    "### Aluno: Isabela Beneti\n",
    "### Método de Newton "
   ]
  },
  {
   "cell_type": "markdown",
   "id": "d3d628fb-2db6-4429-8b53-8f00ffedbd5a",
   "metadata": {},
   "source": [
    "##\n",
    "#  Atividade em Sala"
   ]
  },
  {
   "cell_type": "markdown",
   "id": "346392ce-178e-48d6-950a-08a9c0d18a68",
   "metadata": {},
   "source": [
    "## Exercício 1\n",
    "\n",
    "Considere a função} f(x)=x3+x-3.\n",
    "\n",
    "###  a) A partir de um chute inicial  $p_0$, determine a raiz da função $f$ utilizando o método de Newton.\n",
    "\n",
    "Desenvolvi o código abaixo para descobrir a função da razão f utilizando o método de Newton\n"
   ]
  },
  {
   "cell_type": "code",
   "execution_count": 9,
   "id": "afec0194-db08-4d5b-a34e-1995ae2a5874",
   "metadata": {},
   "outputs": [],
   "source": [
    "def newton(f, df, p0, eps=1e-6):\n",
    "    # Definimos uma variável para armazenar o valor atual de x\n",
    "    \"\"\"\n",
    "    Encontra uma raiz de f(x) a partir de um chute inicial p0 com precisão eps pelo método de Newton\n",
    "    \n",
    "    Retorna a raiz e o número de iterações do código\n",
    "    \"\"\"\n",
    "    p = p0\n",
    "    i=0\n",
    "    fp = f(p)\n",
    "    # Fazemos um loop para iterar o método de Newton\n",
    "    while abs(fp) > eps: # critério de parada (precisão)\n",
    "        # Calculamos o valor de f(x) e df(x)\n",
    "        i = i+1\n",
    "        fp = f(p)\n",
    "        dfp = df(p)\n",
    "\n",
    "        # Calculamos a próxima aproximação de x usando o método de Newton\n",
    "        \n",
    "        p = p - fp / dfp\n",
    "        \n",
    "        \"\"\" Série de Taylor: pn= pn-1 - (f(pn-1)/ f'(pn-1)\"\"\"\n",
    "\n",
    "        # Verificamos se o valor atual de x é uma aproximação suficientemente boa para uma raiz\n",
    "    return p, i"
   ]
  },
  {
   "cell_type": "code",
   "execution_count": 10,
   "id": "3e9d793a-c3c8-425a-96bc-30100d7f9380",
   "metadata": {},
   "outputs": [],
   "source": [
    "def f(x): # definindo função dada no enunciado\n",
    "    return x**3 + x -3\n",
    "def df(y): # definindo derivada da função\n",
    "    return 3*y**2 + 1"
   ]
  },
  {
   "cell_type": "code",
   "execution_count": 11,
   "id": "223ec7c9-e250-405c-b57b-77eb191d7b60",
   "metadata": {},
   "outputs": [
    {
     "name": "stdout",
     "output_type": "stream",
     "text": [
      "Usando o método de Newton, a raíz obtida e a quantidade de vezes que o código iterou para chegar até ela foi, respectivamente: (1.2134116627622296, 8)\n"
     ]
    }
   ],
   "source": [
    "a = newton(f, df, 5)\n",
    "\n",
    "print(\"Usando o método de Newton, a raíz obtida e a quantidade de vezes que o código iterou para chegar até ela foi, respectivamente:\", a)"
   ]
  },
  {
   "cell_type": "markdown",
   "id": "e449ba5d-e935-4d58-aa5e-44cf11821e92",
   "metadata": {},
   "source": [
    "Uma resposta muito próxima do que seria a resposta ideal (~1.2113)"
   ]
  },
  {
   "cell_type": "markdown",
   "id": "6db768ef-8a27-4243-a27a-b3653db60968",
   "metadata": {},
   "source": [
    "##\n",
    "### b) Apresente uma vantagem do método de Newton em relação ao método da bissecção."
   ]
  },
  {
   "cell_type": "markdown",
   "id": "7056ab41-d465-4f45-a788-d2fbddc40a95",
   "metadata": {},
   "source": [
    "Uma das vantagens do método de Newton em comparação com o método da Bissecção é a sua RAPIDEZ.\n",
    "\n",
    "Isso pode ser percebido, por exemplo, no código abaixo, que nos mostra o número de iterações realizadas.\n"
   ]
  },
  {
   "cell_type": "code",
   "execution_count": 4,
   "id": "edc00929-3643-4e20-a29a-47f1dac3e73c",
   "metadata": {
    "tags": []
   },
   "outputs": [],
   "source": [
    "def bisseccao(f, a, b, eps): # redefinindo a função bissecção para poder compará-la com o método de Newton\n",
    "    \"\"\"\n",
    "    Encontra uma raiz de f(x) no intervalo [a, b] com precisão eps pelo método de Bissecção\n",
    "    \n",
    "    Retorna a raiz e o número de iterações do código\n",
    "    \"\"\"\n",
    "    fa = f(a)\n",
    "    fb = f(b)\n",
    "    i= 0\n",
    "\n",
    "    if fa * fb > 0:\n",
    "        raise ValueError(\"Não há raiz no intervalo dado.\")\n",
    "\n",
    "    while abs(b - a) > eps: # critério de parada/precisão\n",
    "        i= i+1 # contador de iteração\n",
    "        c = (a + b) / 2\n",
    "        fc = f(c)\n",
    "\n",
    "        if fa * fc < 0:\n",
    "            b = c\n",
    "            fb = fc\n",
    "        else:\n",
    "            a = c\n",
    "            fa = fc\n",
    "\n",
    "    return c, i"
   ]
  },
  {
   "cell_type": "code",
   "execution_count": 5,
   "id": "3c1fc313-d5d2-4e51-a1fa-0152618a277f",
   "metadata": {},
   "outputs": [
    {
     "name": "stdout",
     "output_type": "stream",
     "text": [
      "Usando o método de Bissecção, a raiz obtida e a quantidade de vezes que o código iterou para chegar até ela foi, respectivamente: (1.2134116888046265, 24)\n"
     ]
    }
   ],
   "source": [
    "r = bisseccao(f, -5, 5, 1e-6)\n",
    "print(\"Usando o método de Bissecção, a raiz obtida e a quantidade de vezes que o código iterou para chegar até ela foi, respectivamente:\", r)\n"
   ]
  },
  {
   "cell_type": "code",
   "execution_count": 6,
   "id": "352c3cba-003a-4973-a88c-432fc5ccdd5a",
   "metadata": {},
   "outputs": [
    {
     "name": "stdout",
     "output_type": "stream",
     "text": [
      "Usando o método de Newton, a raíz obtida e a quantidade de vezes que o código iterou para chegar até ela foi, respectivamente: (1.2134116627622296, 14)\n"
     ]
    }
   ],
   "source": [
    "\n",
    "a = newton(f, df, p0=50)\n",
    "\n",
    "print(\"Usando o método de Newton, a raíz obtida e a quantidade de vezes que o código iterou para chegar até ela foi, respectivamente:\", a)\n"
   ]
  },
  {
   "cell_type": "markdown",
   "id": "97e2c734-daa7-4a46-99e6-ee8084484f08",
   "metadata": {},
   "source": [
    "Logo, por meio desse código percebemos que, mesmo sendo estabelecido um intervalo pequeno, o método da bissecção leva mais iterações para chegar a um resultado próximo da raiz (tolerância de 0,000001)."
   ]
  },
  {
   "cell_type": "markdown",
   "id": "9255f88f-1f62-49bb-9736-23c8ea74af31",
   "metadata": {},
   "source": [
    "##\n",
    "### c) Apresente uma interpretação geométrica do método de Newton."
   ]
  },
  {
   "cell_type": "markdown",
   "id": "d3ecbce5-b52e-4737-ac90-d5e5c3923b00",
   "metadata": {},
   "source": [
    "A imagem abaixo mostra como o método de Newton pode ser interpretado geometricamente: é um processo em que, inicialmente, \"chutamos\" um valor x.\n",
    "\n",
    "Então, encontramos sua projeção em $f(x)$ , em seguida, encontramos a reta que tangencia a função nesse ponto.\n",
    "\n",
    "Repetimos esse mesmo processo mas, dessa vez, com x sendo o ponto em que a reta tangente cruza o eixo das abscissas.\n",
    "\n",
    "Isso será repetido até que x seja uma boa aproximação da raiz."
   ]
  },
  {
   "cell_type": "markdown",
   "id": "08ddcb04-6921-4786-b31b-5f3d4f901998",
   "metadata": {},
   "source": [
    "<img src=\"newton.jpeg\" style=\"width:550px;height:450px\"/>"
   ]
  },
  {
   "cell_type": "markdown",
   "id": "af8d748f-93f1-46a8-892e-e4a53c21560b",
   "metadata": {},
   "source": [
    "##\n",
    "## Exercício 2\n",
    "\n",
    "O método de Newton requer conhecimento da derivada da função que está sendo analisada, o que pode se tornar um problema. Para evitar isso, faça o seguinte:\n",
    "\n",
    "### a) Aproxime a derivada da função f pela variação média entre os pontos. O que obteve?\n",
    "\n"
   ]
  },
  {
   "cell_type": "markdown",
   "id": "07e41c30-2741-41a0-910c-af68655dbdd1",
   "metadata": {},
   "source": [
    "Fazendo essa aproximação da derivada, o que obtemos é:\n"
   ]
  },
  {
   "cell_type": "markdown",
   "id": "99546893-f786-41f9-82ad-a3fb5d3721a8",
   "metadata": {},
   "source": [
    "$ f'(x_k) = \\frac {f(x_k) - f(x_{k-1})}{x_k - x_{k-1}}$"
   ]
  },
  {
   "cell_type": "markdown",
   "id": "87af9c96-2d95-4ded-b6df-2307d02d2e61",
   "metadata": {},
   "source": [
    "Ou seja:"
   ]
  },
  {
   "cell_type": "markdown",
   "id": "3865389c-4359-4176-acee-af6203416a97",
   "metadata": {},
   "source": [
    "$ f'(x_{k+1}) = \\frac {f(x_k)x_{k-1}- f(x_{k-1})x_k}{f(x_k) - f(x_{k-1})}$"
   ]
  },
  {
   "cell_type": "markdown",
   "id": "31351ba2-ccee-4b09-b841-0b386f240044",
   "metadata": {},
   "source": [
    "##\n",
    "###  b) Utilize esse novo método (da secante) para determinar o zero da função do item anterior. \n"
   ]
  },
  {
   "cell_type": "markdown",
   "id": "adfb18e7-3e83-418d-94b2-c738e4140e23",
   "metadata": {},
   "source": [
    "O código abaixo implemeta o método da secante para o cálculo/aproximação de raízes de uma função, e também conta o número de iterações realizadas"
   ]
  },
  {
   "cell_type": "code",
   "execution_count": 7,
   "id": "549fe01f-c789-4d70-8e15-c14c8fb0994c",
   "metadata": {},
   "outputs": [],
   "source": [
    "def secante(f, x0, x1, eps):\n",
    "    \"\"\"\n",
    "    Encontra uma raiz da função f usando o método da secante,\n",
    "    com aproximações iniciais x0 e x1 e critério de parada eps.\n",
    "    \n",
    "    Retorna a raiz encontrada e o número de iterações.\n",
    "    \"\"\"\n",
    "    fx0 = f(x0)\n",
    "    fx1 = f(x1) # são necessários dois pontos iniciais ( e não apenas 1, como eno de Newton, para se obter a média)\n",
    "    x2 = x1 - fx1 * (x1 - x0) / (fx1 - fx0) # Definição do método da secante, obtida no item enterior pela aproximação da derivada da função\n",
    "    i = 1\n",
    "    while abs(f(x2)) > eps: # critério de parada (precisão)\n",
    "        x0, x1 = x1, x2\n",
    "        fx0, fx1 = fx1, f(x2)\n",
    "        x2 = x1 - fx1 * (x1 - x0) / (fx1  - fx0)\n",
    "        i += 1 # contador de iteração\n",
    "    return x2, i"
   ]
  },
  {
   "cell_type": "code",
   "execution_count": 8,
   "id": "064bc450-73c5-40dd-8588-59474eb12cad",
   "metadata": {},
   "outputs": [
    {
     "name": "stdout",
     "output_type": "stream",
     "text": [
      "Usando o método da Secante, a raiz obtida e a quantidade de vezes que o código iterou para chegar até ela foi, respectivamente: (1.213411625128935, 11)\n"
     ]
    }
   ],
   "source": [
    "eps= 1e-6\n",
    "s= secante(f, 5, -5, eps)\n",
    "r = bisseccao(f, -5, 5, 1e-6)\n",
    "print(\"Usando o método da Secante, a raiz obtida e a quantidade de vezes que o código iterou para chegar até ela foi, respectivamente:\", s)"
   ]
  },
  {
   "cell_type": "markdown",
   "id": "4b46cf7d-173a-4d19-a2c2-76cb62a35c77",
   "metadata": {},
   "source": [
    "Percebe-se que, usando parâmetros semelhantes ao método de Newton,o método da secante retornou um resultado bem próximo, mas com número de iterações maior"
   ]
  },
  {
   "cell_type": "markdown",
   "id": "6a142cd0-2e84-40aa-ab0e-04edb6e2e491",
   "metadata": {},
   "source": [
    "##\n",
    "###  c) Apresente uma vantagem e uma desvantagem do método da secante em relação ao método de Newton. \n"
   ]
  },
  {
   "cell_type": "markdown",
   "id": "901a573e-29a2-4a5e-b4a1-977eb367f7be",
   "metadata": {},
   "source": [
    "Uma vantagem CLARA do método da secante em relação ao de Newton é o fato de que o primeiro não depende do cálculo da derivada da função, o que nos economiza muito trabalho.\n",
    "\n",
    "Entretanto, podemos perceber, pelo o número de iterações do código do método da secante, que ele é menos rápido que o método de Newton.\n",
    "\n",
    "Portanto, conclui-se que o método da secante, embora possua várias vantagens (como o fato de não ser necessário calcular a derivada da função) é mais lento."
   ]
  },
  {
   "cell_type": "markdown",
   "id": "6fd35885-d3e9-4fb2-ba03-b735ea47be93",
   "metadata": {},
   "source": [
    "##\n",
    "### d)  Apresente a interpretação geométrica do método da secante. \n"
   ]
  },
  {
   "cell_type": "markdown",
   "id": "68735563-f2da-49ea-85fa-e75eea0e7741",
   "metadata": {},
   "source": [
    "A imagem anexada abaixo mostra como podemos interpretar o método da secante.\n",
    "\n",
    "omo se pode notar, é uma interpretação bem parecida com o método de Newton, mas substituímos o papel da tangente pelo da secante.\n",
    "\n",
    "No método da secante, obtemos o ponto $ x_{k+1}$ encontrando a abcissa do ponto de intersecção do eixo x e da reta secante que passa pelos pontos $(x_{k-1}, f(x_{k-1}))$ $ \\text{ e} $ $(x_{k-1}, f(x_{k-1}))$"
   ]
  },
  {
   "cell_type": "markdown",
   "id": "cd4415ee-1028-4ef8-a4c4-44b1295b72df",
   "metadata": {},
   "source": [
    "<img src=\"secante.png\" style=\"width:550px;height:450px\"/>"
   ]
  }
 ],
 "metadata": {
  "kernelspec": {
   "display_name": "ilumpy",
   "language": "python",
   "name": "ilumpy"
  },
  "language_info": {
   "codemirror_mode": {
    "name": "ipython",
    "version": 3
   },
   "file_extension": ".py",
   "mimetype": "text/x-python",
   "name": "python",
   "nbconvert_exporter": "python",
   "pygments_lexer": "ipython3",
   "version": "3.9.7"
  }
 },
 "nbformat": 4,
 "nbformat_minor": 5
}
