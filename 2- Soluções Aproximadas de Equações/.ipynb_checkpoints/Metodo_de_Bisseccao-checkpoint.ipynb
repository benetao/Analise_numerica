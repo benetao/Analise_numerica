{
 "cells": [
  {
   "cell_type": "markdown",
   "id": "a79095aa-21f8-45a3-9630-b20f57f6996d",
   "metadata": {},
   "source": [
    "<img src=\"logo.png\" style=\"width:1200px;height:200px\"/>\n",
    "\n",
    "# Ilum Escola de Ciência\n",
    "### Curso: Análise Numérica\n",
    "### Professor: Vinícius Wasques\n",
    "### Aluno: Isabela Beneti\n",
    "### Método de Bissecção"
   ]
  },
  {
   "cell_type": "markdown",
   "id": "d3d628fb-2db6-4429-8b53-8f00ffedbd5a",
   "metadata": {},
   "source": [
    "##\n",
    "# Atividade em Sala"
   ]
  },
  {
   "cell_type": "markdown",
   "id": "346392ce-178e-48d6-950a-08a9c0d18a68",
   "metadata": {},
   "source": [
    "## Exercício 1\n",
    "\n",
    "### a) Utilize o método da bissecção para encontrar uma raiz do polinômio f(x)=x³+x²-10x+8 no intervalo [-5,5].}\n",
    "\n",
    "$ Desenvolvi o código abaixo para descobrir a função da razão f utilizando o método de Bissecção}\n"
   ]
  },
  {
   "cell_type": "code",
   "execution_count": 1,
   "id": "afec0194-db08-4d5b-a34e-1995ae2a5874",
   "metadata": {},
   "outputs": [],
   "source": [
    "def f(c): # implementando a equaçãodada pelo enunciado do exercício\n",
    "    return c**3+ c**2- 10*c +8\n",
    "def bissecao(inicio, fim, parada, N): #inicio= começo do intervalo dado; fim= fim do intervalo dado; parada= critério de parada; N= número máx de repetições\n",
    "    f_inicial = f(inicio) # primeriro f(x) a ser analizado é o do início do intervalo\n",
    "    i=1\n",
    "    while (i <= N):\n",
    "        p = inicio + (fim-inicio)/2 # calculando ponto médio\n",
    "        f_final = f(p) # calculando f(x) do ponto médio\n",
    "        if ((f_final == 0) or ((fim-inicio)/2 < parada)): # para quando achar a raíz OU quando a diferença entre o nº encontrado e a raíz for menor que parada\n",
    "            return p # retorna o valor aproximado da raíz\n",
    "        # bissecta o intervalo\n",
    "        i= i+1\n",
    "        if (f_inicial * f_final > 0): # analisando se fa e fp tem sinais distintos. Se sim, significa que a raíz está entre esses valores\n",
    "            inicio = p # portanto, devemos calcular o ponto médio entre esses valores\n",
    "            f_inicial = f_final\n",
    "        else: # se fa e fp tem mesmo sina, dignifica que a raíz NÃO está entre esses valores\n",
    "            fim=p\n"
   ]
  },
  {
   "cell_type": "code",
   "execution_count": 2,
   "id": "3e9d793a-c3c8-425a-96bc-30100d7f9380",
   "metadata": {},
   "outputs": [
    {
     "data": {
      "text/plain": [
       "-4.000000357627869"
      ]
     },
     "execution_count": 2,
     "metadata": {},
     "output_type": "execute_result"
    }
   ],
   "source": [
    "bissecao(-5,5,0.000001, 1000)"
   ]
  },
  {
   "cell_type": "markdown",
   "id": "e449ba5d-e935-4d58-aa5e-44cf11821e92",
   "metadata": {},
   "source": [
    "Uma resposta muito próxima do que seria a resposta ideal (-4)"
   ]
  },
  {
   "cell_type": "markdown",
   "id": "6db768ef-8a27-4243-a27a-b3653db60968",
   "metadata": {},
   "source": [
    "##\n",
    "### b) Como o polinômio tem grau três, tem no máximo três raízes, mude o intervalo e busque outras raízes. O que obteve?"
   ]
  },
  {
   "cell_type": "markdown",
   "id": "7056ab41-d465-4f45-a788-d2fbddc40a95",
   "metadata": {},
   "source": [
    " Utilizando a função \"bissecao\" já definida, podemos tentar buscar outras raízes em outros intervalo, bastando mudar os argumentos \"inicio\" e \"fim\". \n",
    " \n",
    " Mudando tais argumantos para, respsctivamente, 0 e 2, temos:"
   ]
  },
  {
   "cell_type": "code",
   "execution_count": 3,
   "id": "3c1fc313-d5d2-4e51-a1fa-0152618a277f",
   "metadata": {},
   "outputs": [
    {
     "data": {
      "text/plain": [
       "0.9999990463256836"
      ]
     },
     "execution_count": 3,
     "metadata": {},
     "output_type": "execute_result"
    }
   ],
   "source": [
    "bissecao(0,1,0.000001, 1000)"
   ]
  },
  {
   "cell_type": "markdown",
   "id": "97e2c734-daa7-4a46-99e6-ee8084484f08",
   "metadata": {},
   "source": [
    "Ou seja, o código de fato encontrou outra raiz nesse intervalo"
   ]
  },
  {
   "cell_type": "markdown",
   "id": "9255f88f-1f62-49bb-9736-23c8ea74af31",
   "metadata": {},
   "source": [
    "##\n",
    "### c) Considere agora o polinômio:  $ p(x)=x³+x-2$. Encontre uma raiz a partir do intervalo dado $[-2,2]$. "
   ]
  },
  {
   "cell_type": "markdown",
   "id": "b7c63c9a-6c09-444f-87f4-ae26ca182772",
   "metadata": {},
   "source": [
    "Basta redefinir a função f(c) e rodar novamente o código utilizando a função \"bissecao\" "
   ]
  },
  {
   "cell_type": "code",
   "execution_count": 4,
   "id": "c7ddcd36-ff96-4497-beb6-07f0741e59f0",
   "metadata": {},
   "outputs": [],
   "source": [
    "def f(c): # implementando a equaçãodada pelo enunciado do exercício\n",
    "    return c**3+ c- 2"
   ]
  },
  {
   "cell_type": "code",
   "execution_count": 5,
   "id": "a2933ccd-4966-48bf-b44b-94f0a5724d96",
   "metadata": {},
   "outputs": [
    {
     "data": {
      "text/plain": [
       "1.0"
      ]
     },
     "execution_count": 5,
     "metadata": {},
     "output_type": "execute_result"
    }
   ],
   "source": [
    "bissecao(-2,2,0.000001, 1000)"
   ]
  },
  {
   "cell_type": "markdown",
   "id": "2e12ea2c-5dbb-4238-80da-d0b979f5652c",
   "metadata": {},
   "source": [
    "$\\text {Chegamos a uma das raízes do polinômio: 1 } $"
   ]
  },
  {
   "cell_type": "markdown",
   "id": "b44e1128-0383-4413-9c14-62ebd5679a19",
   "metadata": {},
   "source": [
    "### d) Após encontrar uma raiz para p, faça a decomposição q(x)=(x-a)r(x). O que pode ser dito sobre o polinômio r(x) quanto a suas raízes?"
   ]
  },
  {
   "cell_type": "markdown",
   "id": "626f7dcd-c32b-44e6-9724-53e07288f879",
   "metadata": {},
   "source": [
    "Fazendo essa decomposição, temos: $ f(x)= (x-1)\\cdot r(x)$. Para encontrar $r(x)$ basta realizar a divisão de polinômios $ \\frac{f(x)}{x-1}= \\frac{x^3+x-2}{x-1} = x^2+x+2$. As raízes de $ r(x) $ são complexas (visto que seu determinante é menor que zero), com valores de: $ \\left(\\frac{3i+1}{2}\\right)$ e seu conjugado $ \\left(\\frac{3i-1}{2}\\right)$. Essas raízes são TAMBÉM raízes de  $f(x)$, já que, conforme a decomposição $f(x)= (x-1)\\cdot r(x)$, se $ r(x) $ for zero, $ f(x) $será zero também! Portanto, as 3 raízes de $f(x) $ serão: $ 1, \\left(\\frac{3i+1}{2}\\right)$  e  $\\left(\\frac{3i-1}{2}\\right)$."
   ]
  }
 ],
 "metadata": {
  "kernelspec": {
   "display_name": "ilumpy",
   "language": "python",
   "name": "ilumpy"
  },
  "language_info": {
   "codemirror_mode": {
    "name": "ipython",
    "version": 3
   },
   "file_extension": ".py",
   "mimetype": "text/x-python",
   "name": "python",
   "nbconvert_exporter": "python",
   "pygments_lexer": "ipython3",
   "version": "3.9.7"
  }
 },
 "nbformat": 4,
 "nbformat_minor": 5
}
