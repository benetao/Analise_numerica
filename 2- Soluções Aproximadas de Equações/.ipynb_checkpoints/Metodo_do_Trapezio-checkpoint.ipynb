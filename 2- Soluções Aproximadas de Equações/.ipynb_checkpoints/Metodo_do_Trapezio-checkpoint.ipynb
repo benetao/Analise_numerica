{
 "cells": [
  {
   "cell_type": "markdown",
   "id": "a79095aa-21f8-45a3-9630-b20f57f6996d",
   "metadata": {
    "tags": []
   },
   "source": [
    "<img src=\"./logo.png\" style=\"width:1200px;height:200px\"/>\n",
    "\n",
    "## Ilum Escola de Ciência \n",
    "###  Curso: Análise Numérica\n",
    "### Professor: Vinicius Wasques\n",
    "### Aluno: Isabela Beneti\n",
    "### Método do Trapézio"
   ]
  },
  {
   "cell_type": "markdown",
   "id": "21daccf5-c85d-450a-a49e-84fc31097f2c",
   "metadata": {},
   "source": [
    "## Importações"
   ]
  },
  {
   "cell_type": "code",
   "execution_count": 1,
   "id": "6388e252-84b5-4b30-84e0-491abe31511a",
   "metadata": {},
   "outputs": [],
   "source": [
    "import numpy as np\n",
    "import matplotlib.pyplot as plt\n",
    "from scipy import integrate"
   ]
  },
  {
   "cell_type": "markdown",
   "id": "346392ce-178e-48d6-950a-08a9c0d18a68",
   "metadata": {},
   "source": [
    "# Exercício 1\n",
    "\n",
    "Considere a seguinte integral que modela o comprimento de uma chapa com formato ondulatório senoidal:\n",
    "\n",
    "$\\int_{0}^{48}\\sqrt{1+cos^2(x)}dx$\n",
    "\n"
   ]
  },
  {
   "cell_type": "markdown",
   "id": "d6ea57e0-ab53-4aaa-92de-571dbe1638cc",
   "metadata": {},
   "source": [
    "##  a)  Utilize o método do trapézio par'a estimar o comprimento desta chapa no intervalo [0,48]. Esboce geometricamente o que está sendo feito."
   ]
  },
  {
   "cell_type": "markdown",
   "id": "3454ba6b-f732-4a96-9ef5-62de92b4ab2c",
   "metadata": {},
   "source": [
    "Primeiro, vamos implementar a função da qual calcularemos a integral $\\sqrt{1+cos^2(x)}$"
   ]
  },
  {
   "cell_type": "code",
   "execution_count": 2,
   "id": "a9e92758-30e3-4721-8c3b-c47d1ec59c09",
   "metadata": {},
   "outputs": [],
   "source": [
    "def f(x):\n",
    "    return np.sqrt(1 + np.cos(x)**2)"
   ]
  },
  {
   "cell_type": "markdown",
   "id": "a70bc58f-9eae-4f70-9642-66f074017677",
   "metadata": {},
   "source": [
    "Agora, vamos definir uma função que calcula a integral pelo método do trapézio simples (calcula a área do trapézio cujas bases medem $f(a)$ e $f(b)$, e cuja altura mede $b-a$ , sendo a e b os limites da integral)"
   ]
  },
  {
   "cell_type": "code",
   "execution_count": 3,
   "id": "eb4425a4-060a-434f-9a01-8200e3f41447",
   "metadata": {},
   "outputs": [],
   "source": [
    "####### Definindo função que realiza o método do trapézio #######\n",
    "def metodo_do_trapezio(f, a, b):\n",
    "    \"\"\"\n",
    "    Argumentos: \n",
    "    f= função da qual a aproximação da integral será calculada\n",
    "    a= limite inferior da integral\n",
    "    b= limite superior da integral\n",
    "    \n",
    "    Retorna:\n",
    "    \n",
    "    Aproximação da integral pelo método do trapézio\n",
    "    \"\"\"\n",
    "    h = abs(b - a)\n",
    "    integral = (f(a) + f(b)) / 2 * h\n",
    "\n",
    "    return integral"
   ]
  },
  {
   "cell_type": "markdown",
   "id": "3d738c64-fbfb-4f40-abe2-65f4ce2c1c67",
   "metadata": {},
   "source": [
    "Testando essa função para a função do problema, temos o resultado:"
   ]
  },
  {
   "cell_type": "code",
   "execution_count": 4,
   "id": "06d64c5f-2551-4338-911c-25a256fa66ca",
   "metadata": {},
   "outputs": [
    {
     "name": "stdout",
     "output_type": "stream",
     "text": [
      "Estimativa da integral pelo método do trapézio: 62.43737140065479\n"
     ]
    }
   ],
   "source": [
    "# definindo valores dos limites inferior e superior\n",
    "a = 0  # limite inferior\n",
    "b = 48  # limite superior\n",
    "\n",
    "integral_trapezio = metodo_do_trapezio(f, a, b)\n",
    "print(\"Estimativa da integral pelo método do trapézio:\", integral_trapezio)"
   ]
  },
  {
   "cell_type": "markdown",
   "id": "90bc791a-025e-48fc-8c06-93bb6101d598",
   "metadata": {},
   "source": [
    "Agora, para ter um método com o qual comparar, vamos calcular essa mesma integral usando o `integrate.quad`, da bibloteca spicy, que utiliza um algoritmo de quadratura adaptativa para calcular a integral de uma função."
   ]
  },
  {
   "cell_type": "code",
   "execution_count": 5,
   "id": "65ec09d5-e7b1-4c92-a39f-a14a9c266b6a",
   "metadata": {},
   "outputs": [
    {
     "name": "stdout",
     "output_type": "stream",
     "text": [
      "Estimativa da integral pelo método da biblioteca spicy: 58.47046915489962\n"
     ]
    }
   ],
   "source": [
    "# calculando integral por outro método\n",
    "integral_spicy= integrate.quad(f, a, b)\n",
    "print(\"Estimativa da integral pelo método da biblioteca spicy:\", integral_spicy[0])"
   ]
  },
  {
   "cell_type": "markdown",
   "id": "13ee8906-a4f0-4d75-b188-a34cd17fb731",
   "metadata": {},
   "source": [
    "Então, o erro do método do trapézio calculado em relação ao método `integrate.quad` pode ser calculado por:"
   ]
  },
  {
   "cell_type": "code",
   "execution_count": 6,
   "id": "25bca8ec-5d2f-42b3-9e1f-14f59340df96",
   "metadata": {},
   "outputs": [
    {
     "name": "stdout",
     "output_type": "stream",
     "text": [
      "O erro do método do trapézio foi de 3.966902245755172\n"
     ]
    }
   ],
   "source": [
    "# calculando o erro do método do trapézio em relação ao outro método\n",
    "erro_metodo_trapezio = abs(integral_spicy[0] - integral_trapezio)\n",
    "print(\"O erro do método do trapézio foi de\", erro_metodo_trapezio)"
   ]
  },
  {
   "cell_type": "markdown",
   "id": "03850327-c289-4baa-b40d-734821340513",
   "metadata": {},
   "source": [
    "### Representação geométrica"
   ]
  },
  {
   "cell_type": "markdown",
   "id": "1fdae385-25f6-4b89-937a-6de418dce288",
   "metadata": {},
   "source": [
    "Para esboçar geometricamente o que está sendo feito, podemos plotar o gráfico da função $f(x)$ e o trapézio ussado como aproximação da integral:"
   ]
  },
  {
   "cell_type": "code",
   "execution_count": 7,
   "id": "393717fe-0717-4d7a-a1c8-bc861713e513",
   "metadata": {},
   "outputs": [
    {
     "data": {
      "image/png": "[encoded data removed]",
      "text/plain": [
       "<Figure size 432x288 with 1 Axes>"
      ]
     },
     "metadata": {
      "needs_background": "light"
     },
     "output_type": "display_data"
    }
   ],
   "source": [
    "####### Plotando gráfico do método do trapézio #######\n",
    "\n",
    "x = np.linspace(a, b, 1000)  # Pontos para plotar a função\n",
    "y = f(x)  # Valores da função nos pontos x\n",
    "\n",
    "# Plotar o gráfico da função\n",
    "plt.plot(x, y, label='Função')\n",
    "plt.fill_between(x, 0, y, alpha=0.3)\n",
    "\n",
    "# Plotar o trapézio aproximado como integral\n",
    "plt.plot([a, b], [0, 0], 'red', label='Trapézio')\n",
    "plt.plot([a, a], [0, f(a)], 'red')\n",
    "plt.plot([b, b], [0, f(b)],'red')\n",
    "plt.plot([a, b], [f(a), f(b)],'red')\n",
    "\n",
    "plt.title('Gráfico da função com Trapézio Aproximado')\n",
    "plt.xlabel('x')\n",
    "plt.ylabel('y')\n",
    "plt.legend()\n",
    "plt.grid(True)\n",
    "plt.show()"
   ]
  },
  {
   "cell_type": "code",
   "execution_count": 8,
   "id": "3a76e150-7976-47b8-9cd5-b69d2be30522",
   "metadata": {},
   "outputs": [],
   "source": [
    "def runge_kutta_4(f, y0, t0, tf, dt):\n",
    "    \"\"\"\n",
    "    Resolve uma equação diferencial ordinária pelo método de Runge-Kutta de ordem 4.\n",
    "\n",
    "    Parâmetros:\n",
    "    f: função que descreve a equação diferencial (deve ter a assinatura f(t, y)).\n",
    "    y0: valor inicial da solução.\n",
    "    t0: tempo inicial.\n",
    "    tf: tempo final.\n",
    "    dt: tamanho do passo de tempo.\n",
    "\n",
    "    Retorno:\n",
    "    Um array com a solução da equação diferencial nos tempos especificados.\n",
    "    \"\"\"\n",
    "\n",
    "    # Inicializa o vetor de tempo e de solução\n",
    "    t = np.arange(t0, tf + dt, dt)\n",
    "    y = np.zeros(len(t))\n",
    "    y[0] = y0\n",
    "\n",
    "    # Implementa o método de Runge-Kutta de ordem 4\n",
    "    for i in range(len(t) - 1):\n",
    "        k1 = dt * f(t[i], y[i])\n",
    "        k2 = dt * f(t[i] + dt/2, y[i] + k1/2)\n",
    "        k3 = dt * f(t[i] + dt/2, y[i] + k2/2)\n",
    "        k4 = dt * f(t[i] + dt, y[i] + k3)\n",
    "        y[i+1] = y[i] + 1/6 * (k1 + 2*k2 + 2*k3 + k4)\n",
    "\n",
    "    return y"
   ]
  },
  {
   "cell_type": "code",
   "execution_count": 9,
   "id": "54a017ce-40e5-44b3-8ca3-9ff71049b33f",
   "metadata": {},
   "outputs": [],
   "source": [
    "def metodo_euler(f, y0, h, crit_parada):\n",
    "    \"\"\"\n",
    "    Implementa método de Euler para resolver a equação de Malthus.\n",
    "\n",
    "    Args:\n",
    "        f : função que define a equação diferencial.\n",
    "        x0 : valor inicial da população.\n",
    "        h : tamanho do passo de integração.\n",
    "        crit_parada : número de iterações do código.\n",
    "\n",
    "    Returns:\n",
    "        listas do eixo x e do eixo y para plotar o gráfico\n",
    "    \"\"\"\n",
    "    y_euler = [y0]  # Lista para armazenar as soluções do eixo y\n",
    "    x_euler = [0]  # Lista para armazenar valores do eixo x\n",
    "    y = y0  # Valor inicial\n",
    "\n",
    "    for i in range(crit_parada):\n",
    "        y += h * f(x_euler[-1], y)  # Atualiza y usando o método de Euler\n",
    "        t = (i + 1) * h  # Atualiza t\n",
    "        x_euler.append(t)\n",
    "        y_euler.append(y)\n",
    "\n",
    "    return x_euler, y_euler"
   ]
  },
  {
   "cell_type": "code",
   "execution_count": 10,
   "id": "a56fc4e1-db61-44e9-a131-2dc8c277f7d1",
   "metadata": {},
   "outputs": [],
   "source": [
    "# Função que define a equação diferencial de Malthus com taxa de crescimento populacional= 0.1\n",
    "def equacao_malthus(t,x):\n",
    "    return 0.1 * x"
   ]
  },
  {
   "cell_type": "code",
   "execution_count": 11,
   "id": "1d02bd00-98ee-40aa-88df-e87d64644aae",
   "metadata": {},
   "outputs": [
    {
     "data": {
      "image/png": "[encoded data removed]",
      "text/plain": [
       "<Figure size 432x288 with 1 Axes>"
      ]
     },
     "metadata": {
      "needs_background": "light"
     },
     "output_type": "display_data"
    }
   ],
   "source": [
    "# Parâmetros do problema\n",
    "x0 = 0.5  # Valor inicial da população\n",
    "h = 1  # Tamanho do passo\n",
    "crit_parada = 100  # Número de iterações\n",
    "lamb = 0.1  # Taxa de crescimento populacional\n",
    "t0=0 # tempo inicial\n",
    "tf= 100 # tempo final\n",
    "\n",
    "# Valores do gráfico do método de Euler\n",
    "x_malthus_euler, y_malthus_euler = metodo_euler(equacao_malthus, x0, h, crit_parada)\n",
    "\n",
    "# Valores do gráfico do método de Runge-Kutta\n",
    "y_malthus_rk= runge_kutta_4(equacao_malthus, x0, t0, tf, h)\n",
    "\n",
    "# Valores do gráfico real\n",
    "y_malthus_real = x0 * np.exp(lamb * np.array(x_malthus_euler))\n",
    "\n",
    "\n",
    "# Plotando o gráfico da solução obtida pelo método de Euler\n",
    "plt.plot(x_malthus_euler, y_malthus_euler, label='Método de Euler')\n",
    "# Plotando o gráfico da solução obtida pelo método de Runge-Kutta\n",
    "plt.plot(x_malthus_euler, y_malthus_rk, label='Runge-Kutta')\n",
    "# Plotando o gráfico da solução real\n",
    "plt.plot(x_malthus_euler, y_malthus_real, label='Solução Real', linestyle='dashdot')\n",
    "plt.xlabel('Tempo (t)')\n",
    "plt.ylabel('População (y)')\n",
    "plt.title('Equação Diferencial de Malthus')\n",
    "plt.legend()\n",
    "plt.show()"
   ]
  },
  {
   "cell_type": "markdown",
   "id": "27ab4a37-c5d3-4631-bfa9-eb141069395f",
   "metadata": {},
   "source": [
    "## b) Considere agora a partição P={0,12,24,36,48}. Utilize o método do trapézio composto para estimar o comprimento desta chapa no intervalo [0,48]. Esboce geometricamente o que está sendo feito."
   ]
  },
  {
   "cell_type": "markdown",
   "id": "8a395577-3d98-47c6-867b-c0b97a3e7f38",
   "metadata": {},
   "source": [
    "Primeiramente, vamos definir uma função que calcula a integral pelo método do trapézio composto:"
   ]
  },
  {
   "cell_type": "code",
   "execution_count": 12,
   "id": "bc5d407d-1550-4ce3-85f0-b1bbb9e4c7d8",
   "metadata": {},
   "outputs": [],
   "source": [
    "####### Definindo função que realiza o método do trapézio composto #######\n",
    "\n",
    "def metodo_do_trapezio_composto(f, a, b, n):\n",
    "    \"\"\"\n",
    "    Argumentos: \n",
    "    f= função da qual a aproximação da integral será calculada\n",
    "    a= limite inferior da integral\n",
    "    b= limite superior da integral\n",
    "    n= número de trapézios\n",
    "    \n",
    "    Retorna:\n",
    "    \n",
    "    Aproximação da integral pelo método do trapézio composto\n",
    "    \"\"\"\n",
    "    h = (b - a) / n\n",
    "    integral = (f(a) + f(b)) / 2\n",
    "\n",
    "    for i in range(1, n):\n",
    "        x = a + i * h\n",
    "        integral += f(x)\n",
    "\n",
    "    integral *= h\n",
    "    return integral"
   ]
  },
  {
   "cell_type": "markdown",
   "id": "56677d71-6bf4-4a7f-a1ac-b974acf38906",
   "metadata": {},
   "source": [
    "Aa partição dada pelo enunciado representa basicamente um método de trapézio composto em que n=4 (isto é, o número de trapézios é 4). Logo, testando essa função para a função do problema, temos o resultado:"
   ]
  },
  {
   "cell_type": "code",
   "execution_count": 13,
   "id": "c5fb0bd4-e194-4704-9bdc-223b84a0c226",
   "metadata": {},
   "outputs": [
    {
     "name": "stdout",
     "output_type": "stream",
     "text": [
      "Estimativa da integral pelo método do trapézio composto: 56.44375067617747\n"
     ]
    }
   ],
   "source": [
    "n= 4\n",
    "integral_trapezio_composto = metodo_do_trapezio_composto(f, a, b, n)\n",
    "print(\"Estimativa da integral pelo método do trapézio composto:\", integral_trapezio_composto)"
   ]
  },
  {
   "cell_type": "markdown",
   "id": "2e26f640-2ba3-4e7c-a442-1fda72900be1",
   "metadata": {},
   "source": [
    "Então, o erro do método do trapézio composto calculado em relação ao método `integrate.quad` e a diferença entre esse erro e o erro do método do trapézio simples podem ser calculados por:"
   ]
  },
  {
   "cell_type": "code",
   "execution_count": 14,
   "id": "e84aca9b-19ef-4b58-9217-c35397fe33c2",
   "metadata": {},
   "outputs": [
    {
     "name": "stdout",
     "output_type": "stream",
     "text": [
      "O erro do método do trapézio composto para 4 trapézios foi de 2.0267184787221453\n",
      "ou seja, para 4 trapézios, esse erro é cerca de 1.9573030430236769 vezes menor que o erro do trapézio simples\n"
     ]
    }
   ],
   "source": [
    "erro_metodo_trapezio_composto = abs(integral_spicy[0] - integral_trapezio_composto)\n",
    "print(\"O erro do método do trapézio composto para\", n, \"trapézios foi de\", erro_metodo_trapezio_composto)\n",
    "print(\"ou seja, para\", n, \"trapézios, esse erro é cerca de\", erro_metodo_trapezio/erro_metodo_trapezio_composto, \"vezes menor que o erro do trapézio simples\")"
   ]
  },
  {
   "cell_type": "markdown",
   "id": "e0a4b544-192a-465e-a287-343a17098a9d",
   "metadata": {},
   "source": [
    "### Representação geométrica"
   ]
  },
  {
   "cell_type": "code",
   "execution_count": 15,
   "id": "ff82b945-0003-40cb-bcf8-32d675bac844",
   "metadata": {},
   "outputs": [
    {
     "data": {
      "image/png": "[encoded data removed]",
      "text/plain": [
       "<Figure size 432x288 with 1 Axes>"
      ]
     },
     "metadata": {
      "needs_background": "light"
     },
     "output_type": "display_data"
    }
   ],
   "source": [
    "####### Plotando gráfico do método do trapézio composto #######\n",
    "\n",
    "# Plotando o gráfico da função\n",
    "plt.plot(x, y, label='Função')\n",
    "plt.fill_between(x, 0, y, alpha=0.3)\n",
    "p= 48/n\n",
    "# Plotando os trapézios aproximados como integral\n",
    "for i in range(n):\n",
    "    a= (i)*(48/n)\n",
    "    b= (i+1)*(48/n)\n",
    "    plt.plot([a, b], [0, 0], 'red')\n",
    "    plt.plot([a, a], [0, f(a)], 'red')\n",
    "    plt.plot([b, b], [0, f(b)],'red')\n",
    "    plt.plot([a, b], [f(a), f(b)],'red')\n",
    "# voltando a e b para os \"valores normais\"\n",
    "a = 0  # limite inferior\n",
    "b = 48 # limite superior\n",
    "plt.title('Gráfico da função com Trapézios Aproximados (Método do Trapézio Composto)')\n",
    "plt.xlabel('x')\n",
    "plt.ylabel('y')\n",
    "plt.legend()\n",
    "plt.grid(True)\n",
    "plt.show()"
   ]
  },
  {
   "cell_type": "markdown",
   "id": "b8ed65b9-9956-4b7b-86cf-0b039968827c",
   "metadata": {},
   "source": [
    "### Observação"
   ]
  },
  {
   "cell_type": "markdown",
   "id": "3371fd1a-e017-44e9-8a58-241c9c0b49b4",
   "metadata": {},
   "source": [
    "Para alguns valores de n (número de trapézios do método do trapézio composto), como n=3 e n=5, o resultado do método do trapézio composto é PIOR do que o resultado do método de trapézio simples, como mostram os códigos:"
   ]
  },
  {
   "cell_type": "code",
   "execution_count": 16,
   "id": "3b08bd8f-f433-494b-adc2-57312d28304e",
   "metadata": {},
   "outputs": [
    {
     "name": "stdout",
     "output_type": "stream",
     "text": [
      "O erro do método do trapézio composto para 5 trapézios foi de 5.436033545868419\n",
      "ou seja, para 5 trapézios, esse erro é cerca de 0.7297420467116433 vezes menor que o erro do trapézio simples\n"
     ]
    }
   ],
   "source": [
    "n= 5\n",
    "integral_trapezio_composto = metodo_do_trapezio_composto(f, a, b, n)\n",
    "erro_metodo_trapezio_composto = abs(integral_spicy[0] - integral_trapezio_composto)\n",
    "print(\"O erro do método do trapézio composto para\", n, \"trapézios foi de\", erro_metodo_trapezio_composto)\n",
    "print(\"ou seja, para\", n, \"trapézios, esse erro é cerca de\", erro_metodo_trapezio/erro_metodo_trapezio_composto, \"vezes menor que o erro do trapézio simples\")"
   ]
  },
  {
   "cell_type": "code",
   "execution_count": 17,
   "id": "0576affe-1946-46ca-be01-e696e9cfc8c5",
   "metadata": {},
   "outputs": [
    {
     "name": "stdout",
     "output_type": "stream",
     "text": [
      "O erro do método do trapézio composto para 3 trapézios foi de 5.332008162662049\n",
      "ou seja, para 3 trapézios, esse erro é cerca de 0.7439790271766319 vezes menor que o erro do trapézio simples\n"
     ]
    }
   ],
   "source": [
    "n= 3\n",
    "integral_trapezio_composto = metodo_do_trapezio_composto(f, a, b, n)\n",
    "erro_metodo_trapezio_composto = abs(integral_spicy[0] - integral_trapezio_composto)\n",
    "print(\"O erro do método do trapézio composto para\", n, \"trapézios foi de\", erro_metodo_trapezio_composto)\n",
    "print(\"ou seja, para\", n, \"trapézios, esse erro é cerca de\", erro_metodo_trapezio/erro_metodo_trapezio_composto, \"vezes menor que o erro do trapézio simples\")"
   ]
  }
 ],
 "metadata": {
  "kernelspec": {
   "display_name": "ilumpy",
   "language": "python",
   "name": "ilumpy"
  },
  "language_info": {
   "codemirror_mode": {
    "name": "ipython",
    "version": 3
   },
   "file_extension": ".py",
   "mimetype": "text/x-python",
   "name": "python",
   "nbconvert_exporter": "python",
   "pygments_lexer": "ipython3",
   "version": "3.9.7"
  }
 },
 "nbformat": 4,
 "nbformat_minor": 5
}
